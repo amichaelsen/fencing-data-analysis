{
 "cells": [
  {
   "cell_type": "markdown",
   "id": "274d4322-040a-4ce2-947b-9ed8de1ff66f",
   "metadata": {},
   "source": [
    "# Initial Imports/Data Loading"
   ]
  },
  {
   "cell_type": "code",
   "execution_count": 1,
   "id": "a3c99b4b",
   "metadata": {},
   "outputs": [],
   "source": [
    "import pandas as pd \n",
    "import math\n",
    "import numpy as np\n",
    "import matplotlib.pyplot as plt\n",
    "\n",
    "# load dataframes from CSV files \n",
    "from data.load_csv import orig_tournament_df, orig_bout_df, orig_fencer_bio_df, orig_fencer_rankings_df\n",
    "\n",
    "# copy dataframes for cleanup \n",
    "tournament_df, bout_df, fencer_bio_df, fencer_rankings_df = \\\n",
    "    orig_tournament_df.copy(), orig_bout_df.copy(), orig_fencer_bio_df.copy(), orig_fencer_rankings_df.copy()"
   ]
  },
  {
   "cell_type": "markdown",
   "id": "349ce3fb",
   "metadata": {
    "tags": [],
    "toc-hr-collapsed": true
   },
   "source": [
    "## Initial Examination of Missing Fields\n",
    "\n",
    "Checking where missing (NaN) values occur in the dataframes to see where to investigate\n"
   ]
  },
  {
   "cell_type": "code",
   "execution_count": 2,
   "id": "a9cde7b4",
   "metadata": {},
   "outputs": [
    {
     "name": "stdout",
     "output_type": "stream",
     "text": [
      "\n",
      "Tournament Dataframe\n",
      "\n",
      "Columns: ['competition_ID', 'season', 'name', 'category', 'country', 'start_date', 'end_date', 'weapon', 'gender', 'timezone', 'url', 'unique_ID', 'missing_results_flag']\n",
      "  Row Count: 830\n",
      "  Column Count: 13\n",
      "\n",
      "Bouts Dataframe\n",
      "\n",
      "Columns: ['fencer_ID', 'opp_ID', 'fencer_age', 'opp_age', 'fencer_score', 'opp_score', 'winner_ID', 'fencer_curr_pts', 'opp_curr_pts', 'tournament_ID', 'pool_ID', 'upset', 'date']\n",
      "  Row Count: 49137\n",
      "  Column Count: 13\n",
      "\n",
      "Fencer Bio Dataframe\n",
      "\n",
      "Columns: ['id', 'name', 'country_code', 'country', 'hand', 'age', 'url', 'date_accessed']\n",
      "  Row Count: 2122\n",
      "  Column Count: 8\n",
      "\n",
      "Fencer Rankings Dataframe\n",
      "\n",
      "Columns: ['rank', 'points']\n",
      "  Row Count: 10941\n",
      "  Column Count: 2\n"
     ]
    }
   ],
   "source": [
    "list_of_df = [tournament_df, bout_df, fencer_bio_df, fencer_rankings_df]\n",
    "for df in list_of_df:\n",
    "    df._metadata += ['df_name']\n",
    "    print(\"\")\n",
    "    print(df.df_name)\n",
    "    print(\"\")\n",
    "    print(\"Columns: {}\".format(list(df.columns)))\n",
    "    print(\"  Row Count: {}\".format(df.shape[0]))\n",
    "    print(\"  Column Count: {}\".format(df.shape[1]))"
   ]
  },
  {
   "cell_type": "code",
   "execution_count": 3,
   "id": "95ecad45",
   "metadata": {},
   "outputs": [
    {
     "name": "stdout",
     "output_type": "stream",
     "text": [
      "\n",
      "Tournament Dataframe\n",
      "\n",
      "Missing Values:\n",
      "missing_results_flag    218\n",
      "dtype: int64\n",
      "\n",
      "Bouts Dataframe\n",
      "\n",
      "Missing Values:   None!\n",
      "\n",
      "Fencer Bio Dataframe\n",
      "\n",
      "Missing Values:\n",
      "country_code    1\n",
      "country         1\n",
      "hand            2\n",
      "dtype: int64\n",
      "\n",
      "Fencer Rankings Dataframe\n",
      "\n",
      "Missing Values:   None!\n"
     ]
    }
   ],
   "source": [
    "list_of_df = [tournament_df, bout_df, fencer_bio_df, fencer_rankings_df]\n",
    "for df in list_of_df:\n",
    "    print(\"\")\n",
    "    print(df.df_name)\n",
    "    print(\"\")\n",
    "\n",
    "    print(\"Missing Values:\",end=\"\")\n",
    "    if(df.isna().sum().sum() > 0):\n",
    "        print(\"\")\n",
    "        print(df.isna().sum()[df.isna().sum() > 0])\n",
    "    else:\n",
    "        print(\"   None!\")"
   ]
  },
  {
   "cell_type": "markdown",
   "id": "64f96322",
   "metadata": {},
   "source": [
    "### Conclusions\n",
    "\n",
    "* Tournament Dataframe's missing values correspond to empty missing_results_flags which just means the tournament does have bout data, not a problem! \n",
    "\n",
    "* Fencer Bio Dataframe missing values (hand:2, country/country code:1) should be invesitgated. "
   ]
  },
  {
   "cell_type": "markdown",
   "id": "8eff0917",
   "metadata": {},
   "source": [
    "# Cleaning Up Fencer Data\n",
    "\n",
    "\n"
   ]
  },
  {
   "cell_type": "markdown",
   "id": "9e90caa4",
   "metadata": {
    "tags": [],
    "toc-hr-collapsed": true
   },
   "source": [
    "### Count fencers in each dataframe"
   ]
  },
  {
   "cell_type": "code",
   "execution_count": 4,
   "id": "851b7753",
   "metadata": {},
   "outputs": [
    {
     "name": "stdout",
     "output_type": "stream",
     "text": [
      "Number of unique fencers in any bout:           2109\n",
      "Number of rows in the bio dataframe:            2122\n",
      "Number of unique fencers in bio dataframe:      2122\n",
      "Number of unique fencers in rankings dataframe: 2031\n"
     ]
    }
   ],
   "source": [
    "fencer_ID_list = list(set(list(np.unique(bout_df['fencer_ID'])) + list(np.unique(bout_df['opp_ID']))))\n",
    "print(\"Number of unique fencers in any bout:           {}\".format(len(fencer_ID_list)))\n",
    "print(\"Number of rows in the bio dataframe:            {}\".format(fencer_bio_df.shape[0]))\n",
    "print(\"Number of unique fencers in bio dataframe:      {}\".format(len(list(np.unique(fencer_bio_df['id'])))))\n",
    "print(\"Number of unique fencers in rankings dataframe: {}\".format(np.unique(fencer_rankings_df.index.get_level_values(0)).size))"
   ]
  },
  {
   "cell_type": "code",
   "execution_count": 5,
   "id": "659d87a1",
   "metadata": {},
   "outputs": [],
   "source": [
    "def remove_fencers_from_bout(ID_list):\n",
    "    init_rows = bout_df.shape[0]\n",
    "    indices_to_drop = bout_df[(bout_df['fencer_ID'].isin(ID_list)) | (bout_df['opp_ID'].isin(ID_list))].index\n",
    "    bout_df.drop(index=indices_to_drop, inplace=True)\n",
    "    final_rows = bout_df.shape[0]\n",
    "    print(\"Removed fencers from bout_df with IDS: {}\".format(ID_list))\n",
    "    print(\"   Number of Rows removed: {}\".format(init_rows-final_rows))\n",
    "\n",
    "def remove_fencers_from_bio(ID_list):\n",
    "    init_rows = fencer_bio_df.shape[0]\n",
    "    indices_to_drop = fencer_bio_df[fencer_bio_df['id'].isin(ID_list)]['id'].index\n",
    "    fencer_bio_df.drop(index=indices_to_drop, inplace=True)\n",
    "    final_rows = fencer_bio_df.shape[0]\n",
    "    print(\"Removed fencers from fencer_bio_df with IDS: {}\".format(ID_list))\n",
    "    print(\"   Number of Rows removed: {}\".format(init_rows-final_rows))\n",
    "\n",
    "def remove_fencers_from_rankings(ID_list):\n",
    "    init_fencers = np.unique(fencer_rankings_df.index.get_level_values(0)).size\n",
    "    init_rows = fencer_rankings_df.shape[0]\n",
    "    fencer_rankings_df.drop(ID_list, level='id', inplace=True, errors='ignore') \n",
    "    final_fencers = np.unique(fencer_rankings_df.index.get_level_values(0)).size\n",
    "    final_rows = fencer_rankings_df.shape[0]\n",
    "    print(\"Removed fencers from fencer_rankings_df with IDS: {}\".format(ID_list))\n",
    "    print(\"   Number of fencers/rows removed: {}/{}\".format(init_fencers-final_fencers,init_rows-final_rows))"
   ]
  },
  {
   "cell_type": "markdown",
   "id": "a5398fb3-192f-41f9-a896-c4da8cbda690",
   "metadata": {},
   "source": [
    "#### Conclusions\n",
    "Createed counts of (unique) fencers in each dataframe \n",
    "\n",
    "Methods above can be used to remove rows with fencers specified by ID from each fencer specific dataframe"
   ]
  },
  {
   "cell_type": "markdown",
   "id": "8175a6c9",
   "metadata": {
    "toc-hr-collapsed": true
   },
   "source": [
    "### Explore Missing Bio Data\n",
    "\n",
    "Look into the fencers with missing bio data and decide how to handle them. "
   ]
  },
  {
   "cell_type": "code",
   "execution_count": 6,
   "id": "0dc6a112",
   "metadata": {},
   "outputs": [
    {
     "name": "stdout",
     "output_type": "stream",
     "text": [
      "Fencer Bio Dataframe\n"
     ]
    },
    {
     "data": {
      "text/plain": [
       "id               0\n",
       "name             0\n",
       "country_code     1\n",
       "country          1\n",
       "hand             2\n",
       "age              0\n",
       "url              0\n",
       "date_accessed    0\n",
       "dtype: int64"
      ]
     },
     "execution_count": 6,
     "metadata": {},
     "output_type": "execute_result"
    }
   ],
   "source": [
    "# Review missing data for fencer_bio_df\n",
    "print(fencer_bio_df.df_name)\n",
    "fencer_bio_df.isna().sum()"
   ]
  },
  {
   "cell_type": "code",
   "execution_count": 7,
   "id": "f7096dce",
   "metadata": {},
   "outputs": [
    {
     "data": {
      "text/html": [
       "<div>\n",
       "<style scoped>\n",
       "    .dataframe tbody tr th:only-of-type {\n",
       "        vertical-align: middle;\n",
       "    }\n",
       "\n",
       "    .dataframe tbody tr th {\n",
       "        vertical-align: top;\n",
       "    }\n",
       "\n",
       "    .dataframe thead th {\n",
       "        text-align: right;\n",
       "    }\n",
       "</style>\n",
       "<table border=\"1\" class=\"dataframe\">\n",
       "  <thead>\n",
       "    <tr style=\"text-align: right;\">\n",
       "      <th></th>\n",
       "      <th>id</th>\n",
       "      <th>name</th>\n",
       "      <th>country_code</th>\n",
       "      <th>country</th>\n",
       "      <th>hand</th>\n",
       "      <th>age</th>\n",
       "      <th>url</th>\n",
       "      <th>date_accessed</th>\n",
       "    </tr>\n",
       "  </thead>\n",
       "  <tbody>\n",
       "    <tr>\n",
       "      <th>400</th>\n",
       "      <td>18867</td>\n",
       "      <td>KIM Yoonha</td>\n",
       "      <td>KOR</td>\n",
       "      <td>KOREA</td>\n",
       "      <td>NaN</td>\n",
       "      <td>31</td>\n",
       "      <td>https://fie.org/athletes/18867</td>\n",
       "      <td>2021-05-13 21:33:17</td>\n",
       "    </tr>\n",
       "    <tr>\n",
       "      <th>1927</th>\n",
       "      <td>1414</td>\n",
       "      <td>AGUERO Es</td>\n",
       "      <td>NaN</td>\n",
       "      <td>NaN</td>\n",
       "      <td>NaN</td>\n",
       "      <td>-</td>\n",
       "      <td>https://fie.org/athletes/1414</td>\n",
       "      <td>2021-05-13 21:24:48</td>\n",
       "    </tr>\n",
       "  </tbody>\n",
       "</table>\n",
       "</div>"
      ],
      "text/plain": [
       "         id        name country_code country hand age  \\\n",
       "400   18867  KIM Yoonha          KOR   KOREA  NaN  31   \n",
       "1927   1414   AGUERO Es          NaN     NaN  NaN   -   \n",
       "\n",
       "                                 url        date_accessed  \n",
       "400   https://fie.org/athletes/18867  2021-05-13 21:33:17  \n",
       "1927   https://fie.org/athletes/1414  2021-05-13 21:24:48  "
      ]
     },
     "execution_count": 7,
     "metadata": {},
     "output_type": "execute_result"
    }
   ],
   "source": [
    "# pull up the rows with the missing data ('hand' suffices since this gets all NaNs)\n",
    "fencer_bio_df[fencer_bio_df['hand'].isna()]"
   ]
  },
  {
   "cell_type": "markdown",
   "id": "c394defc",
   "metadata": {},
   "source": [
    "Fencer with ID 18867 has all data except hand and can be safely included. \n",
    "\n",
    "Fencer with ID 1414 has only name data... \n",
    "\n",
    "...reviewing the data creation process from fie-fencing-dataset and FIE pages, this comes from a missing athelete page/reused ID on the FIE website. "
   ]
  },
  {
   "cell_type": "code",
   "execution_count": 8,
   "id": "6eda3d75",
   "metadata": {},
   "outputs": [
    {
     "data": {
      "text/html": [
       "<div>\n",
       "<style scoped>\n",
       "    .dataframe tbody tr th:only-of-type {\n",
       "        vertical-align: middle;\n",
       "    }\n",
       "\n",
       "    .dataframe tbody tr th {\n",
       "        vertical-align: top;\n",
       "    }\n",
       "\n",
       "    .dataframe thead th {\n",
       "        text-align: right;\n",
       "    }\n",
       "</style>\n",
       "<table border=\"1\" class=\"dataframe\">\n",
       "  <thead>\n",
       "    <tr style=\"text-align: right;\">\n",
       "      <th></th>\n",
       "      <th>fencer_ID</th>\n",
       "      <th>opp_ID</th>\n",
       "      <th>fencer_age</th>\n",
       "      <th>opp_age</th>\n",
       "      <th>fencer_score</th>\n",
       "      <th>opp_score</th>\n",
       "      <th>winner_ID</th>\n",
       "      <th>fencer_curr_pts</th>\n",
       "      <th>opp_curr_pts</th>\n",
       "      <th>tournament_ID</th>\n",
       "      <th>pool_ID</th>\n",
       "      <th>upset</th>\n",
       "      <th>date</th>\n",
       "    </tr>\n",
       "  </thead>\n",
       "  <tbody>\n",
       "    <tr>\n",
       "      <th>9029</th>\n",
       "      <td>8184</td>\n",
       "      <td>1414</td>\n",
       "      <td>61</td>\n",
       "      <td>55</td>\n",
       "      <td>5</td>\n",
       "      <td>3</td>\n",
       "      <td>8184</td>\n",
       "      <td>0.0</td>\n",
       "      <td>0.0</td>\n",
       "      <td>2015-1105</td>\n",
       "      <td>2</td>\n",
       "      <td>False</td>\n",
       "      <td>2015-10-20</td>\n",
       "    </tr>\n",
       "    <tr>\n",
       "      <th>9034</th>\n",
       "      <td>31422</td>\n",
       "      <td>1414</td>\n",
       "      <td>59</td>\n",
       "      <td>55</td>\n",
       "      <td>4</td>\n",
       "      <td>3</td>\n",
       "      <td>31422</td>\n",
       "      <td>0.0</td>\n",
       "      <td>0.0</td>\n",
       "      <td>2015-1105</td>\n",
       "      <td>2</td>\n",
       "      <td>False</td>\n",
       "      <td>2015-10-20</td>\n",
       "    </tr>\n",
       "    <tr>\n",
       "      <th>9039</th>\n",
       "      <td>1414</td>\n",
       "      <td>35696</td>\n",
       "      <td>55</td>\n",
       "      <td>57</td>\n",
       "      <td>1</td>\n",
       "      <td>5</td>\n",
       "      <td>35696</td>\n",
       "      <td>0.0</td>\n",
       "      <td>0.0</td>\n",
       "      <td>2015-1105</td>\n",
       "      <td>2</td>\n",
       "      <td>False</td>\n",
       "      <td>2015-10-20</td>\n",
       "    </tr>\n",
       "    <tr>\n",
       "      <th>9040</th>\n",
       "      <td>1414</td>\n",
       "      <td>31372</td>\n",
       "      <td>55</td>\n",
       "      <td>62</td>\n",
       "      <td>5</td>\n",
       "      <td>2</td>\n",
       "      <td>1414</td>\n",
       "      <td>0.0</td>\n",
       "      <td>0.0</td>\n",
       "      <td>2015-1105</td>\n",
       "      <td>2</td>\n",
       "      <td>False</td>\n",
       "      <td>2015-10-20</td>\n",
       "    </tr>\n",
       "    <tr>\n",
       "      <th>9041</th>\n",
       "      <td>1414</td>\n",
       "      <td>38923</td>\n",
       "      <td>55</td>\n",
       "      <td>60</td>\n",
       "      <td>0</td>\n",
       "      <td>5</td>\n",
       "      <td>38923</td>\n",
       "      <td>0.0</td>\n",
       "      <td>0.0</td>\n",
       "      <td>2015-1105</td>\n",
       "      <td>2</td>\n",
       "      <td>False</td>\n",
       "      <td>2015-10-20</td>\n",
       "    </tr>\n",
       "    <tr>\n",
       "      <th>9042</th>\n",
       "      <td>1414</td>\n",
       "      <td>33457</td>\n",
       "      <td>55</td>\n",
       "      <td>58</td>\n",
       "      <td>2</td>\n",
       "      <td>5</td>\n",
       "      <td>33457</td>\n",
       "      <td>0.0</td>\n",
       "      <td>0.0</td>\n",
       "      <td>2015-1105</td>\n",
       "      <td>2</td>\n",
       "      <td>False</td>\n",
       "      <td>2015-10-20</td>\n",
       "    </tr>\n",
       "  </tbody>\n",
       "</table>\n",
       "</div>"
      ],
      "text/plain": [
       "      fencer_ID  opp_ID  fencer_age  opp_age  fencer_score  opp_score  \\\n",
       "9029       8184    1414          61       55             5          3   \n",
       "9034      31422    1414          59       55             4          3   \n",
       "9039       1414   35696          55       57             1          5   \n",
       "9040       1414   31372          55       62             5          2   \n",
       "9041       1414   38923          55       60             0          5   \n",
       "9042       1414   33457          55       58             2          5   \n",
       "\n",
       "      winner_ID  fencer_curr_pts  opp_curr_pts tournament_ID  pool_ID  upset  \\\n",
       "9029       8184              0.0           0.0     2015-1105        2  False   \n",
       "9034      31422              0.0           0.0     2015-1105        2  False   \n",
       "9039      35696              0.0           0.0     2015-1105        2  False   \n",
       "9040       1414              0.0           0.0     2015-1105        2  False   \n",
       "9041      38923              0.0           0.0     2015-1105        2  False   \n",
       "9042      33457              0.0           0.0     2015-1105        2  False   \n",
       "\n",
       "            date  \n",
       "9029  2015-10-20  \n",
       "9034  2015-10-20  \n",
       "9039  2015-10-20  \n",
       "9040  2015-10-20  \n",
       "9041  2015-10-20  \n",
       "9042  2015-10-20  "
      ]
     },
     "execution_count": 8,
     "metadata": {},
     "output_type": "execute_result"
    }
   ],
   "source": [
    "# count number of bouts lost by excluding ID 1414 (ANS = 6) \n",
    "bout_df[(bout_df['fencer_ID']==1414) | (bout_df['opp_ID']==1414)]"
   ]
  },
  {
   "cell_type": "code",
   "execution_count": 9,
   "id": "aae29f45",
   "metadata": {},
   "outputs": [
    {
     "name": "stdout",
     "output_type": "stream",
     "text": [
      "Removed fencers from fencer_bio_df with IDS: [1414]\n",
      "   Number of Rows removed: 1\n",
      "Removed fencers from bout_df with IDS: [1414]\n",
      "   Number of Rows removed: 6\n",
      "Removed fencers from fencer_rankings_df with IDS: [1414]\n",
      "   Number of fencers/rows removed: 0/0\n"
     ]
    }
   ],
   "source": [
    "# remove fencers with ID 1414 from bouts, bio data df, and rankings data\n",
    "remove_fencers_from_bio([1414])\n",
    "remove_fencers_from_bout([1414])\n",
    "remove_fencers_from_rankings([1414])"
   ]
  },
  {
   "cell_type": "code",
   "execution_count": 10,
   "id": "9686a72a",
   "metadata": {},
   "outputs": [
    {
     "name": "stdout",
     "output_type": "stream",
     "text": [
      "Succesfully removed all bout rows with fencer 1414\n",
      "Succesfully removed all fencer_bio rows with fencer 1414\n",
      "Succesfully removed all fencer_rankings rows with fencer 1414\n"
     ]
    }
   ],
   "source": [
    "# Verify that no rows in these DF have ID 1414\n",
    "# print(\"Rows in bout_df with ID 1414:            {}\".format(bout_df[(bout_df['fencer_ID']==1414) | (bout_df['opp_ID']==1414)].shape[0]))\n",
    "count = bout_df[(bout_df['fencer_ID']==1414) | (bout_df['opp_ID']==1414)].shape[0]\n",
    "assert count == 0, \"Warning: Bouts remain with fencer 1414\"\n",
    "print(\"Succesfully removed all bout rows with fencer 1414\")\n",
    "# print(\"Rows in fencer_bio_df with ID 1414:      {}\".format(fencer_bio_df[fencer_bio_df['id'] == 1414].shape[0]))\n",
    "count = fencer_bio_df[fencer_bio_df['id'] == 1414].shape[0]\n",
    "assert count == 0, \"Warning: Bios remain with fencer 1414\"\n",
    "print(\"Succesfully removed all fencer_bio rows with fencer 1414\")\n",
    "# print(\"Rows in fencer_rankings_df with ID 1414: {}\".format(list(fencer_rankings_df.index.get_level_values(0)).count(1414)))\n",
    "count = list(fencer_rankings_df.index.get_level_values(0)).count(1414)\n",
    "assert count == 0, \"Warning: Rankings remain with fencer 1414\"\n",
    "print(\"Succesfully removed all fencer_rankings rows with fencer 1414\")"
   ]
  },
  {
   "cell_type": "markdown",
   "id": "62115b53",
   "metadata": {},
   "source": [
    "#### Conclusions \n",
    "\n",
    "**Fencer (18867) Fine** \n",
    "\n",
    "Only hand data missing here so can be kept in the dataset.\n",
    "\n",
    "**Remove Fencer (1414) with All Bio Data Missing**\n",
    "\n",
    "Fencer with id 141 has no data and will be excluded from the dataset \n",
    "\n",
    "  --> removed all bouts with this fencer from the bouts dataframe as well (only 6 bouts are lost)\n",
    "\n",
    "Note: This error in the dataset comes directly from the FIE website, where the ID *was* affiliated with a fencer (HENNIG Bonnie) in [this tournament](https://fie.org/competitions/2015/1105) but the fencer's [page](https://fie.org/athletes/1414) now has a stub with a different name (AGUERO Es) and no bio data and does not show up in the athlete [search](https://fie.org/athletes/search). \n"
   ]
  },
  {
   "cell_type": "markdown",
   "id": "4ef7edce",
   "metadata": {
    "tags": [],
    "toc-hr-collapsed": true
   },
   "source": [
    "### Remove fencers with no bout data\n",
    "\n",
    "Some fencers in the fencer_bio_df and fencer_rankings_df do not have any bouts in the bout_df. These can be removed from fencer_bio_df and fencer_rankings_df since we only want fencers for which we have bout data. \n",
    "\n",
    "Fencer IDs can show up for fencers who were registered for the tournament and thus showed up in the tournaments athlete list but did not fence in the event (and thus have no pools data). \n",
    "\n",
    "Example: https://fie.org/competitions/2015/125 for fencer Pineda (ID 13089)"
   ]
  },
  {
   "cell_type": "code",
   "execution_count": 11,
   "id": "be8dca55",
   "metadata": {},
   "outputs": [
    {
     "name": "stdout",
     "output_type": "stream",
     "text": [
      "IDs for fencers in bio dataframe not associated with any bout:\n",
      "   [13089, 38010, 42617, 46276, 46378, 46847, 47863, 49319, 49966, 50852, 51726, 52917, 53150]\n"
     ]
    }
   ],
   "source": [
    "print(\"IDs for fencers in bio dataframe not associated with any bout:\\n   \",end=\"\")\n",
    "fencers_with_no_bouts = list(set(np.unique(fencer_bio_df['id'])) - set(fencer_ID_list))\n",
    "fencers_with_no_bouts.sort()\n",
    "print(fencers_with_no_bouts)"
   ]
  },
  {
   "cell_type": "code",
   "execution_count": 12,
   "id": "eacddb94",
   "metadata": {},
   "outputs": [
    {
     "name": "stdout",
     "output_type": "stream",
     "text": [
      "Confirmed no bouts for fencers in list!\n"
     ]
    }
   ],
   "source": [
    "# double check no bouts for these fencers \n",
    "for fencer_id in fencers_with_no_bouts:\n",
    "    df = bout_df[(bout_df['fencer_ID'] == fencer_id) | (bout_df['opp_ID'] == fencer_id)]\n",
    "    assert df.shape[0] == 0, \"Failed to remove fencer with ID {} from bout_df\".format(fencer_id)\n",
    "\n",
    "print(\"Confirmed no bouts for fencers in list!\")"
   ]
  },
  {
   "cell_type": "code",
   "execution_count": 13,
   "id": "0a396708",
   "metadata": {},
   "outputs": [
    {
     "data": {
      "text/html": [
       "<div>\n",
       "<style scoped>\n",
       "    .dataframe tbody tr th:only-of-type {\n",
       "        vertical-align: middle;\n",
       "    }\n",
       "\n",
       "    .dataframe tbody tr th {\n",
       "        vertical-align: top;\n",
       "    }\n",
       "\n",
       "    .dataframe thead th {\n",
       "        text-align: right;\n",
       "    }\n",
       "</style>\n",
       "<table border=\"1\" class=\"dataframe\">\n",
       "  <thead>\n",
       "    <tr style=\"text-align: right;\">\n",
       "      <th></th>\n",
       "      <th>id</th>\n",
       "      <th>name</th>\n",
       "      <th>country_code</th>\n",
       "      <th>country</th>\n",
       "      <th>hand</th>\n",
       "      <th>age</th>\n",
       "      <th>url</th>\n",
       "      <th>date_accessed</th>\n",
       "    </tr>\n",
       "  </thead>\n",
       "  <tbody>\n",
       "    <tr>\n",
       "      <th>797</th>\n",
       "      <td>51726</td>\n",
       "      <td>BLEIER Raluca</td>\n",
       "      <td>ROU</td>\n",
       "      <td>ROMANIA</td>\n",
       "      <td>Right</td>\n",
       "      <td>19</td>\n",
       "      <td>https://fie.org/athletes/51726</td>\n",
       "      <td>2021-05-13 21:33:37</td>\n",
       "    </tr>\n",
       "    <tr>\n",
       "      <th>944</th>\n",
       "      <td>38010</td>\n",
       "      <td>CHEN Alyssa</td>\n",
       "      <td>USA</td>\n",
       "      <td>USA</td>\n",
       "      <td>Left</td>\n",
       "      <td>21</td>\n",
       "      <td>https://fie.org/athletes/38010</td>\n",
       "      <td>2021-05-13 21:46:47</td>\n",
       "    </tr>\n",
       "    <tr>\n",
       "      <th>968</th>\n",
       "      <td>46276</td>\n",
       "      <td>AMADO Clara</td>\n",
       "      <td>ESP</td>\n",
       "      <td>SPAIN</td>\n",
       "      <td>Right</td>\n",
       "      <td>20</td>\n",
       "      <td>https://fie.org/athletes/46276</td>\n",
       "      <td>2021-05-13 21:47:25</td>\n",
       "    </tr>\n",
       "    <tr>\n",
       "      <th>992</th>\n",
       "      <td>46378</td>\n",
       "      <td>CASTRO Marta</td>\n",
       "      <td>ESP</td>\n",
       "      <td>SPAIN</td>\n",
       "      <td>Right</td>\n",
       "      <td>21</td>\n",
       "      <td>https://fie.org/athletes/46378</td>\n",
       "      <td>2021-05-13 21:47:48</td>\n",
       "    </tr>\n",
       "    <tr>\n",
       "      <th>1085</th>\n",
       "      <td>42617</td>\n",
       "      <td>NICOLLEAU Roseline Celeste</td>\n",
       "      <td>ESP</td>\n",
       "      <td>SPAIN</td>\n",
       "      <td>Right</td>\n",
       "      <td>22</td>\n",
       "      <td>https://fie.org/athletes/42617</td>\n",
       "      <td>2021-05-13 21:25:34</td>\n",
       "    </tr>\n",
       "    <tr>\n",
       "      <th>1109</th>\n",
       "      <td>52917</td>\n",
       "      <td>LOPES BENTO Hadija Fernanda</td>\n",
       "      <td>CPV</td>\n",
       "      <td>CAPE VERDE</td>\n",
       "      <td>Right</td>\n",
       "      <td>15</td>\n",
       "      <td>https://fie.org/athletes/52917</td>\n",
       "      <td>2021-05-13 21:40:00</td>\n",
       "    </tr>\n",
       "    <tr>\n",
       "      <th>1403</th>\n",
       "      <td>13089</td>\n",
       "      <td>PINEDA Joselina</td>\n",
       "      <td>VEN</td>\n",
       "      <td>VENEZUELA</td>\n",
       "      <td>Right</td>\n",
       "      <td>38</td>\n",
       "      <td>https://fie.org/athletes/13089</td>\n",
       "      <td>2021-05-13 21:45:10</td>\n",
       "    </tr>\n",
       "    <tr>\n",
       "      <th>1488</th>\n",
       "      <td>49319</td>\n",
       "      <td>BOEGLE Vivien</td>\n",
       "      <td>AUT</td>\n",
       "      <td>AUSTRIA</td>\n",
       "      <td>Right</td>\n",
       "      <td>19</td>\n",
       "      <td>https://fie.org/athletes/49319</td>\n",
       "      <td>2021-05-13 21:20:09</td>\n",
       "    </tr>\n",
       "    <tr>\n",
       "      <th>1920</th>\n",
       "      <td>53150</td>\n",
       "      <td>KARRI Gowri</td>\n",
       "      <td>IND</td>\n",
       "      <td>INDIA</td>\n",
       "      <td>Right</td>\n",
       "      <td>16</td>\n",
       "      <td>https://fie.org/athletes/53150</td>\n",
       "      <td>2021-05-13 21:41:16</td>\n",
       "    </tr>\n",
       "    <tr>\n",
       "      <th>1943</th>\n",
       "      <td>50852</td>\n",
       "      <td>WULF Annette</td>\n",
       "      <td>GER</td>\n",
       "      <td>GERMANY</td>\n",
       "      <td>Left</td>\n",
       "      <td>52</td>\n",
       "      <td>https://fie.org/athletes/50852</td>\n",
       "      <td>2021-05-13 21:25:51</td>\n",
       "    </tr>\n",
       "    <tr>\n",
       "      <th>2067</th>\n",
       "      <td>47863</td>\n",
       "      <td>NKONDI Henriette</td>\n",
       "      <td>COD</td>\n",
       "      <td>DEMOCRATIC REPUBLIC OF CONGO</td>\n",
       "      <td>Right</td>\n",
       "      <td>21</td>\n",
       "      <td>https://fie.org/athletes/47863</td>\n",
       "      <td>2021-05-13 21:53:00</td>\n",
       "    </tr>\n",
       "    <tr>\n",
       "      <th>2070</th>\n",
       "      <td>46847</td>\n",
       "      <td>MULAMBA Rosette</td>\n",
       "      <td>COD</td>\n",
       "      <td>DEMOCRATIC REPUBLIC OF CONGO</td>\n",
       "      <td>Right</td>\n",
       "      <td>22</td>\n",
       "      <td>https://fie.org/athletes/46847</td>\n",
       "      <td>2021-05-13 21:49:12</td>\n",
       "    </tr>\n",
       "    <tr>\n",
       "      <th>2080</th>\n",
       "      <td>49966</td>\n",
       "      <td>HAO Alicia</td>\n",
       "      <td>USA</td>\n",
       "      <td>USA</td>\n",
       "      <td>Right</td>\n",
       "      <td>18</td>\n",
       "      <td>https://fie.org/athletes/49966</td>\n",
       "      <td>2021-05-13 21:22:32</td>\n",
       "    </tr>\n",
       "  </tbody>\n",
       "</table>\n",
       "</div>"
      ],
      "text/plain": [
       "         id                         name country_code  \\\n",
       "797   51726                BLEIER Raluca          ROU   \n",
       "944   38010                  CHEN Alyssa          USA   \n",
       "968   46276                  AMADO Clara          ESP   \n",
       "992   46378                 CASTRO Marta          ESP   \n",
       "1085  42617   NICOLLEAU Roseline Celeste          ESP   \n",
       "1109  52917  LOPES BENTO Hadija Fernanda          CPV   \n",
       "1403  13089              PINEDA Joselina          VEN   \n",
       "1488  49319                BOEGLE Vivien          AUT   \n",
       "1920  53150                  KARRI Gowri          IND   \n",
       "1943  50852                 WULF Annette          GER   \n",
       "2067  47863             NKONDI Henriette          COD   \n",
       "2070  46847              MULAMBA Rosette          COD   \n",
       "2080  49966                   HAO Alicia          USA   \n",
       "\n",
       "                           country   hand age                             url  \\\n",
       "797                        ROMANIA  Right  19  https://fie.org/athletes/51726   \n",
       "944                            USA   Left  21  https://fie.org/athletes/38010   \n",
       "968                          SPAIN  Right  20  https://fie.org/athletes/46276   \n",
       "992                          SPAIN  Right  21  https://fie.org/athletes/46378   \n",
       "1085                         SPAIN  Right  22  https://fie.org/athletes/42617   \n",
       "1109                   CAPE VERDE   Right  15  https://fie.org/athletes/52917   \n",
       "1403                     VENEZUELA  Right  38  https://fie.org/athletes/13089   \n",
       "1488                       AUSTRIA  Right  19  https://fie.org/athletes/49319   \n",
       "1920                         INDIA  Right  16  https://fie.org/athletes/53150   \n",
       "1943                       GERMANY   Left  52  https://fie.org/athletes/50852   \n",
       "2067  DEMOCRATIC REPUBLIC OF CONGO  Right  21  https://fie.org/athletes/47863   \n",
       "2070  DEMOCRATIC REPUBLIC OF CONGO  Right  22  https://fie.org/athletes/46847   \n",
       "2080                           USA  Right  18  https://fie.org/athletes/49966   \n",
       "\n",
       "            date_accessed  \n",
       "797   2021-05-13 21:33:37  \n",
       "944   2021-05-13 21:46:47  \n",
       "968   2021-05-13 21:47:25  \n",
       "992   2021-05-13 21:47:48  \n",
       "1085  2021-05-13 21:25:34  \n",
       "1109  2021-05-13 21:40:00  \n",
       "1403  2021-05-13 21:45:10  \n",
       "1488  2021-05-13 21:20:09  \n",
       "1920  2021-05-13 21:41:16  \n",
       "1943  2021-05-13 21:25:51  \n",
       "2067  2021-05-13 21:53:00  \n",
       "2070  2021-05-13 21:49:12  \n",
       "2080  2021-05-13 21:22:32  "
      ]
     },
     "execution_count": 13,
     "metadata": {},
     "output_type": "execute_result"
    }
   ],
   "source": [
    "# print out the fencers who are missing bout data\n",
    "fencer_bio_df[fencer_bio_df['id'].isin(fencers_with_no_bouts)]"
   ]
  },
  {
   "cell_type": "code",
   "execution_count": 14,
   "id": "08e12e56",
   "metadata": {},
   "outputs": [
    {
     "name": "stdout",
     "output_type": "stream",
     "text": [
      "Removed fencers from fencer_bio_df with IDS: [13089, 38010, 42617, 46276, 46378, 46847, 47863, 49319, 49966, 50852, 51726, 52917, 53150]\n",
      "   Number of Rows removed: 13\n",
      "Removed fencers from bout_df with IDS: [13089, 38010, 42617, 46276, 46378, 46847, 47863, 49319, 49966, 50852, 51726, 52917, 53150]\n",
      "   Number of Rows removed: 0\n",
      "Removed fencers from fencer_rankings_df with IDS: [13089, 38010, 42617, 46276, 46378, 46847, 47863, 49319, 49966, 50852, 51726, 52917, 53150]\n",
      "   Number of fencers/rows removed: 2/4\n"
     ]
    }
   ],
   "source": [
    "# remove fencers with no bouts from bio/rankings df (double check that 0 rows removed from bout_df)\n",
    "remove_fencers_from_bio(fencers_with_no_bouts)\n",
    "remove_fencers_from_bout(fencers_with_no_bouts)\n",
    "remove_fencers_from_rankings(fencers_with_no_bouts)"
   ]
  },
  {
   "cell_type": "code",
   "execution_count": 15,
   "id": "423e683a",
   "metadata": {},
   "outputs": [
    {
     "name": "stdout",
     "output_type": "stream",
     "text": [
      "Successfully removed all fencers without bout data from fencer_bio_df!\n",
      "Successfully removed all fencers without bout data from fencer_rankings_df!\n"
     ]
    }
   ],
   "source": [
    "# check that no bio/ranking IDs remain with no bout data\n",
    "assert fencer_bio_df[fencer_bio_df['id'].isin(fencers_with_no_bouts)].size == 0, \\\n",
    "    \"Failed to remove all fencers without bouts from fencer_bio_df\"\n",
    "print(\"Successfully removed all fencers without bout data from fencer_bio_df!\")\n",
    "\n",
    "assert len([i for i in list(fencer_rankings_df.index.get_level_values(0)) if i in fencers_with_no_bouts]) == 0, \\\n",
    "    \"Failed to remove all fencers without bouts from fencer_rankings_df\"\n",
    "print(\"Successfully removed all fencers without bout data from fencer_rankings_df!\")"
   ]
  },
  {
   "cell_type": "code",
   "execution_count": 16,
   "id": "146d95da",
   "metadata": {},
   "outputs": [
    {
     "name": "stdout",
     "output_type": "stream",
     "text": [
      "Number of unique fencers in any bout:           2108\n",
      "Number of rows in the bio dataframe:            2108\n",
      "Number of unique fencers in bio dataframe:      2108\n",
      "Number of unique fencers in rankings dataframe: 2029\n"
     ]
    }
   ],
   "source": [
    "fencer_ID_list_from_bouts = list(set(list(np.unique(bout_df['fencer_ID'])) + list(np.unique(bout_df['opp_ID']))))\n",
    "print(\"Number of unique fencers in any bout:           {}\".format(len(fencer_ID_list_from_bouts)))\n",
    "print(\"Number of rows in the bio dataframe:            {}\".format(fencer_bio_df.shape[0]))\n",
    "print(\"Number of unique fencers in bio dataframe:      {}\".format(len(list(np.unique(fencer_bio_df['id'])))))\n",
    "print(\"Number of unique fencers in rankings dataframe: {}\".format(np.unique(fencer_rankings_df.index.get_level_values(0)).size))"
   ]
  },
  {
   "cell_type": "code",
   "execution_count": 17,
   "id": "44ded974",
   "metadata": {},
   "outputs": [
    {
     "name": "stdout",
     "output_type": "stream",
     "text": [
      "Success! Fencer ID lists from bout_df and fencer_bio_df match!\n"
     ]
    }
   ],
   "source": [
    "# get list of IDs with bouts\n",
    "fencer_ID_list_from_bouts = list(set(list(np.unique(bout_df['fencer_ID'])) + list(np.unique(bout_df['opp_ID']))))\n",
    "fencer_ID_list_from_bouts.sort()\n",
    "# get list of IDs with bio info\n",
    "fencer_ID_list_from_bios = list(np.unique(fencer_bio_df['id']))\n",
    "fencer_ID_list_from_bios.sort()\n",
    "# check these lists match \n",
    "assert fencer_ID_list_from_bios == fencer_ID_list_from_bouts, \"Mismatch between fencer list from bios and bouts\"\n",
    "print(\"Success! Fencer ID lists from bout_df and fencer_bio_df match!\")"
   ]
  },
  {
   "cell_type": "markdown",
   "id": "eb67b566",
   "metadata": {},
   "source": [
    "#### Conclusions \n",
    "\n",
    "Removed fencers with no bout data from fencer_bio_df and fencer_rankings_df "
   ]
  },
  {
   "cell_type": "markdown",
   "id": "329b96c1",
   "metadata": {
    "tags": [],
    "toc-hr-collapsed": true
   },
   "source": [
    "### Explore fencers with no rankings data\n",
    "\n",
    "Unique fencers with rankings data is 2029 compared to 2108 fencers with bout & bio data. \n",
    "\n",
    "Look into how many bouts they represent from bout_df"
   ]
  },
  {
   "cell_type": "code",
   "execution_count": 18,
   "id": "bb4c1251",
   "metadata": {},
   "outputs": [
    {
     "name": "stdout",
     "output_type": "stream",
     "text": [
      "Fencer IDs with bout/bio data but no rankings info: (count = 79)\n",
      "[3072, 33287, 48135, 6672, 43030, 48150, 48163, 48166, 33327, 36404, 50741, 46134, 50742, 11319, 33343, 50755, 48196, 50760, 8790, 34907, 48220, 40033, 40545, 47717, 43125, 43130, 50304, 47750, 51852, 25741, 43155, 50842, 27806, 8864, 50851, 38575, 38065, 27827, 27833, 41661, 44228, 31455, 38641, 48881, 37621, 25850, 38650, 42746, 43267, 14611, 50995, 35636, 50997, 36150, 50999, 3384, 47930, 47932, 50514, 47964, 2918, 47986, 46971, 51070, 17799, 51082, 48011, 48012, 51109, 11201, 48075, 53200, 38868, 3029, 48086, 48104, 1006, 43510, 8184]\n"
     ]
    }
   ],
   "source": [
    "missing_fencer_rankings = list(set(np.unique(fencer_bio_df['id'])) - set(np.unique(fencer_rankings_df.index.get_level_values(0))))\n",
    "print(\"Fencer IDs with bout/bio data but no rankings info: (count = {})\".format(len(missing_fencer_rankings)))\n",
    "print(missing_fencer_rankings)"
   ]
  },
  {
   "cell_type": "code",
   "execution_count": 19,
   "id": "e79d5011",
   "metadata": {},
   "outputs": [
    {
     "data": {
      "text/html": [
       "<div>\n",
       "<style scoped>\n",
       "    .dataframe tbody tr th:only-of-type {\n",
       "        vertical-align: middle;\n",
       "    }\n",
       "\n",
       "    .dataframe tbody tr th {\n",
       "        vertical-align: top;\n",
       "    }\n",
       "\n",
       "    .dataframe thead th {\n",
       "        text-align: right;\n",
       "    }\n",
       "</style>\n",
       "<table border=\"1\" class=\"dataframe\">\n",
       "  <thead>\n",
       "    <tr style=\"text-align: right;\">\n",
       "      <th></th>\n",
       "      <th>id</th>\n",
       "      <th>name</th>\n",
       "      <th>country_code</th>\n",
       "      <th>country</th>\n",
       "      <th>hand</th>\n",
       "      <th>age</th>\n",
       "      <th>url</th>\n",
       "      <th>date_accessed</th>\n",
       "    </tr>\n",
       "  </thead>\n",
       "  <tbody>\n",
       "    <tr>\n",
       "      <th>201</th>\n",
       "      <td>34907</td>\n",
       "      <td>ELSHARKAWY Hadil</td>\n",
       "      <td>EGY</td>\n",
       "      <td>EGYPT</td>\n",
       "      <td>Right</td>\n",
       "      <td>23</td>\n",
       "      <td>https://fie.org/athletes/34907</td>\n",
       "      <td>2021-05-13 21:31:23</td>\n",
       "    </tr>\n",
       "    <tr>\n",
       "      <th>515</th>\n",
       "      <td>37621</td>\n",
       "      <td>SANTHOSH GEETHA Aarcha</td>\n",
       "      <td>IND</td>\n",
       "      <td>INDIA</td>\n",
       "      <td>Left</td>\n",
       "      <td>23</td>\n",
       "      <td>https://fie.org/athletes/37621</td>\n",
       "      <td>2021-05-13 21:44:56</td>\n",
       "    </tr>\n",
       "    <tr>\n",
       "      <th>570</th>\n",
       "      <td>50304</td>\n",
       "      <td>SUTAR Jyoti Arun</td>\n",
       "      <td>IND</td>\n",
       "      <td>INDIA</td>\n",
       "      <td>Right</td>\n",
       "      <td>22</td>\n",
       "      <td>https://fie.org/athletes/50304</td>\n",
       "      <td>2021-05-13 21:23:55</td>\n",
       "    </tr>\n",
       "    <tr>\n",
       "      <th>603</th>\n",
       "      <td>50514</td>\n",
       "      <td>SAFARIC Tina</td>\n",
       "      <td>SLO</td>\n",
       "      <td>SLOVENIA</td>\n",
       "      <td>Right</td>\n",
       "      <td>22</td>\n",
       "      <td>https://fie.org/athletes/50514</td>\n",
       "      <td>2021-05-13 21:24:41</td>\n",
       "    </tr>\n",
       "    <tr>\n",
       "      <th>641</th>\n",
       "      <td>33327</td>\n",
       "      <td>UFF Susan</td>\n",
       "      <td>GBR</td>\n",
       "      <td>GREAT BRITAIN</td>\n",
       "      <td>Left</td>\n",
       "      <td>72</td>\n",
       "      <td>https://fie.org/athletes/33327</td>\n",
       "      <td>2021-05-13 21:21:10</td>\n",
       "    </tr>\n",
       "    <tr>\n",
       "      <th>...</th>\n",
       "      <td>...</td>\n",
       "      <td>...</td>\n",
       "      <td>...</td>\n",
       "      <td>...</td>\n",
       "      <td>...</td>\n",
       "      <td>...</td>\n",
       "      <td>...</td>\n",
       "      <td>...</td>\n",
       "    </tr>\n",
       "    <tr>\n",
       "      <th>1993</th>\n",
       "      <td>38641</td>\n",
       "      <td>VALLET-MODAINE Laurence</td>\n",
       "      <td>FRA</td>\n",
       "      <td>FRANCE</td>\n",
       "      <td>Right</td>\n",
       "      <td>56</td>\n",
       "      <td>https://fie.org/athletes/38641</td>\n",
       "      <td>2021-05-13 21:49:09</td>\n",
       "    </tr>\n",
       "    <tr>\n",
       "      <th>1996</th>\n",
       "      <td>38650</td>\n",
       "      <td>DRESEN-KUCHALSKI Margaretha</td>\n",
       "      <td>GER</td>\n",
       "      <td>GERMANY</td>\n",
       "      <td>Left</td>\n",
       "      <td>62</td>\n",
       "      <td>https://fie.org/athletes/38650</td>\n",
       "      <td>2021-05-13 21:49:11</td>\n",
       "    </tr>\n",
       "    <tr>\n",
       "      <th>1997</th>\n",
       "      <td>51070</td>\n",
       "      <td>LANSKOVA Maya</td>\n",
       "      <td>RUS</td>\n",
       "      <td>RUSSIA</td>\n",
       "      <td>Right</td>\n",
       "      <td>52</td>\n",
       "      <td>https://fie.org/athletes/51070</td>\n",
       "      <td>2021-05-13 21:30:21</td>\n",
       "    </tr>\n",
       "    <tr>\n",
       "      <th>2013</th>\n",
       "      <td>53200</td>\n",
       "      <td>VICTORIA Andrea</td>\n",
       "      <td>PAN</td>\n",
       "      <td>PANAMA</td>\n",
       "      <td>Left</td>\n",
       "      <td>19</td>\n",
       "      <td>https://fie.org/athletes/53200</td>\n",
       "      <td>2021-05-13 21:41:27</td>\n",
       "    </tr>\n",
       "    <tr>\n",
       "      <th>2053</th>\n",
       "      <td>38065</td>\n",
       "      <td>DIETSCHE Erin</td>\n",
       "      <td>USA</td>\n",
       "      <td>USA</td>\n",
       "      <td>Right</td>\n",
       "      <td>24</td>\n",
       "      <td>https://fie.org/athletes/38065</td>\n",
       "      <td>2021-05-13 21:47:23</td>\n",
       "    </tr>\n",
       "  </tbody>\n",
       "</table>\n",
       "<p>79 rows × 8 columns</p>\n",
       "</div>"
      ],
      "text/plain": [
       "         id                         name country_code        country   hand  \\\n",
       "201   34907             ELSHARKAWY Hadil          EGY          EGYPT  Right   \n",
       "515   37621       SANTHOSH GEETHA Aarcha          IND          INDIA   Left   \n",
       "570   50304             SUTAR Jyoti Arun          IND          INDIA  Right   \n",
       "603   50514                 SAFARIC Tina          SLO       SLOVENIA  Right   \n",
       "641   33327                    UFF Susan          GBR  GREAT BRITAIN   Left   \n",
       "...     ...                          ...          ...            ...    ...   \n",
       "1993  38641      VALLET-MODAINE Laurence          FRA         FRANCE  Right   \n",
       "1996  38650  DRESEN-KUCHALSKI Margaretha          GER        GERMANY   Left   \n",
       "1997  51070                LANSKOVA Maya          RUS         RUSSIA  Right   \n",
       "2013  53200              VICTORIA Andrea          PAN         PANAMA   Left   \n",
       "2053  38065                DIETSCHE Erin          USA            USA  Right   \n",
       "\n",
       "     age                             url        date_accessed  \n",
       "201   23  https://fie.org/athletes/34907  2021-05-13 21:31:23  \n",
       "515   23  https://fie.org/athletes/37621  2021-05-13 21:44:56  \n",
       "570   22  https://fie.org/athletes/50304  2021-05-13 21:23:55  \n",
       "603   22  https://fie.org/athletes/50514  2021-05-13 21:24:41  \n",
       "641   72  https://fie.org/athletes/33327  2021-05-13 21:21:10  \n",
       "...   ..                             ...                  ...  \n",
       "1993  56  https://fie.org/athletes/38641  2021-05-13 21:49:09  \n",
       "1996  62  https://fie.org/athletes/38650  2021-05-13 21:49:11  \n",
       "1997  52  https://fie.org/athletes/51070  2021-05-13 21:30:21  \n",
       "2013  19  https://fie.org/athletes/53200  2021-05-13 21:41:27  \n",
       "2053  24  https://fie.org/athletes/38065  2021-05-13 21:47:23  \n",
       "\n",
       "[79 rows x 8 columns]"
      ]
     },
     "execution_count": 19,
     "metadata": {},
     "output_type": "execute_result"
    }
   ],
   "source": [
    "fencer_bio_df[fencer_bio_df['id'].isin(missing_fencer_rankings)]"
   ]
  },
  {
   "cell_type": "code",
   "execution_count": 20,
   "id": "68d6fd79",
   "metadata": {},
   "outputs": [
    {
     "name": "stdout",
     "output_type": "stream",
     "text": [
      "Bouts corresponding to fencers with no rankings data: 563 (1.15% of total bouts)\n"
     ]
    }
   ],
   "source": [
    "# count bouts corresponding to these fencers (bout_df rows = 49131)\n",
    "count = bout_df[(bout_df['fencer_ID'].isin(missing_fencer_rankings)) | (bout_df['opp_ID'].isin(missing_fencer_rankings)) ].shape[0]\n",
    "print(\"Bouts corresponding to fencers with no rankings data: {} ({:.2%} of total bouts)\".format(count, count/bout_df.shape[0]))"
   ]
  },
  {
   "cell_type": "code",
   "execution_count": 21,
   "id": "c0616bbd",
   "metadata": {},
   "outputs": [],
   "source": [
    "# # Remove fencers without rankings from bouts and bio dataframes\n",
    "# remove_fencers_from_bio(missing_fencer_rankings)\n",
    "# remove_fencers_from_bout(missing_fencer_rankings)\n",
    "# remove_fencers_from_rankings(missing_fencer_rankings)"
   ]
  },
  {
   "cell_type": "code",
   "execution_count": 22,
   "id": "88ce1c97",
   "metadata": {},
   "outputs": [],
   "source": [
    "# # SCRIPT TO CHECK IF FENCERS WITH RANKINGS MATCHES FENCERS WITH BOUTS (optional)\n",
    "# # get list of IDs with bouts\n",
    "# fencer_ID_list_from_bouts = list(set(list(np.unique(bout_df['fencer_ID'])) + list(np.unique(bout_df['opp_ID']))))\n",
    "# fencer_ID_list_from_bouts.sort()\n",
    "# # get list of IDs with bio info\n",
    "# fencer_ID_list_from_rankings = list(np.unique(fencer_rankings_df.index.get_level_values(0)))\n",
    "# fencer_ID_list_from_rankings.sort()\n",
    "# # check these lists match \n",
    "# assert fencer_ID_list_from_bios == fencer_ID_list_from_rankings, \"Mismatch between fencer list from bouts and rankings\"\n",
    "# print(\"Success! Fencer ID lists from bout_df and fencer_bio_df match!\")"
   ]
  },
  {
   "cell_type": "markdown",
   "id": "44b5d417",
   "metadata": {},
   "source": [
    "#### Conclusions \n",
    "\n",
    "About ~1.15% of bouts would be lost by removing these fencer. For now will keep but if this becomes problematic for data analysis later on, could consider  coming back and removing these. \n",
    "\n",
    "To remove and check removed uncomment and run the 2 immediately preceeding cells. "
   ]
  },
  {
   "cell_type": "markdown",
   "id": "a8c0c3db",
   "metadata": {
    "toc-hr-collapsed": true
   },
   "source": [
    "### Review Nationality Data\n",
    "\n",
    "Check nationality/country list and look for any inconsistencies there"
   ]
  },
  {
   "cell_type": "code",
   "execution_count": 23,
   "id": "5e5541d9",
   "metadata": {},
   "outputs": [
    {
     "data": {
      "text/plain": [
       "101"
      ]
     },
     "execution_count": 23,
     "metadata": {},
     "output_type": "execute_result"
    }
   ],
   "source": [
    "## Nationality - count unique countries\n",
    "len(list(np.unique(fencer_bio_df['country'])))"
   ]
  },
  {
   "cell_type": "code",
   "execution_count": 24,
   "id": "f513b9d5",
   "metadata": {},
   "outputs": [
    {
     "data": {
      "text/html": [
       "<div>\n",
       "<style scoped>\n",
       "    .dataframe tbody tr th:only-of-type {\n",
       "        vertical-align: middle;\n",
       "    }\n",
       "\n",
       "    .dataframe tbody tr th {\n",
       "        vertical-align: top;\n",
       "    }\n",
       "\n",
       "    .dataframe thead th {\n",
       "        text-align: right;\n",
       "    }\n",
       "</style>\n",
       "<table border=\"1\" class=\"dataframe\">\n",
       "  <thead>\n",
       "    <tr style=\"text-align: right;\">\n",
       "      <th></th>\n",
       "      <th>id</th>\n",
       "      <th>name</th>\n",
       "      <th>country_code</th>\n",
       "      <th>hand</th>\n",
       "      <th>age</th>\n",
       "      <th>url</th>\n",
       "      <th>date_accessed</th>\n",
       "    </tr>\n",
       "    <tr>\n",
       "      <th>country</th>\n",
       "      <th></th>\n",
       "      <th></th>\n",
       "      <th></th>\n",
       "      <th></th>\n",
       "      <th></th>\n",
       "      <th></th>\n",
       "      <th></th>\n",
       "    </tr>\n",
       "  </thead>\n",
       "  <tbody>\n",
       "    <tr>\n",
       "      <th>USA</th>\n",
       "      <td>131</td>\n",
       "      <td>131</td>\n",
       "      <td>131</td>\n",
       "      <td>131</td>\n",
       "      <td>131</td>\n",
       "      <td>131</td>\n",
       "      <td>131</td>\n",
       "    </tr>\n",
       "    <tr>\n",
       "      <th>ITALY</th>\n",
       "      <td>130</td>\n",
       "      <td>130</td>\n",
       "      <td>130</td>\n",
       "      <td>130</td>\n",
       "      <td>130</td>\n",
       "      <td>130</td>\n",
       "      <td>130</td>\n",
       "    </tr>\n",
       "    <tr>\n",
       "      <th>GERMANY</th>\n",
       "      <td>113</td>\n",
       "      <td>113</td>\n",
       "      <td>113</td>\n",
       "      <td>113</td>\n",
       "      <td>113</td>\n",
       "      <td>113</td>\n",
       "      <td>113</td>\n",
       "    </tr>\n",
       "    <tr>\n",
       "      <th>FRANCE</th>\n",
       "      <td>88</td>\n",
       "      <td>88</td>\n",
       "      <td>88</td>\n",
       "      <td>88</td>\n",
       "      <td>88</td>\n",
       "      <td>88</td>\n",
       "      <td>88</td>\n",
       "    </tr>\n",
       "    <tr>\n",
       "      <th>GREAT BRITAIN</th>\n",
       "      <td>87</td>\n",
       "      <td>87</td>\n",
       "      <td>87</td>\n",
       "      <td>87</td>\n",
       "      <td>87</td>\n",
       "      <td>87</td>\n",
       "      <td>87</td>\n",
       "    </tr>\n",
       "    <tr>\n",
       "      <th>...</th>\n",
       "      <td>...</td>\n",
       "      <td>...</td>\n",
       "      <td>...</td>\n",
       "      <td>...</td>\n",
       "      <td>...</td>\n",
       "      <td>...</td>\n",
       "      <td>...</td>\n",
       "    </tr>\n",
       "    <tr>\n",
       "      <th>SAUDI ARABIA</th>\n",
       "      <td>1</td>\n",
       "      <td>1</td>\n",
       "      <td>1</td>\n",
       "      <td>1</td>\n",
       "      <td>1</td>\n",
       "      <td>1</td>\n",
       "      <td>1</td>\n",
       "    </tr>\n",
       "    <tr>\n",
       "      <th>BOTSWANA</th>\n",
       "      <td>1</td>\n",
       "      <td>1</td>\n",
       "      <td>1</td>\n",
       "      <td>1</td>\n",
       "      <td>1</td>\n",
       "      <td>1</td>\n",
       "      <td>1</td>\n",
       "    </tr>\n",
       "    <tr>\n",
       "      <th>DEMOCRATIC REPUBLIC OF CONGO</th>\n",
       "      <td>1</td>\n",
       "      <td>1</td>\n",
       "      <td>1</td>\n",
       "      <td>1</td>\n",
       "      <td>1</td>\n",
       "      <td>1</td>\n",
       "      <td>1</td>\n",
       "    </tr>\n",
       "    <tr>\n",
       "      <th>BS</th>\n",
       "      <td>1</td>\n",
       "      <td>1</td>\n",
       "      <td>1</td>\n",
       "      <td>1</td>\n",
       "      <td>1</td>\n",
       "      <td>1</td>\n",
       "      <td>1</td>\n",
       "    </tr>\n",
       "    <tr>\n",
       "      <th>BRUNEI DARUSSALAM</th>\n",
       "      <td>1</td>\n",
       "      <td>1</td>\n",
       "      <td>1</td>\n",
       "      <td>1</td>\n",
       "      <td>1</td>\n",
       "      <td>1</td>\n",
       "      <td>1</td>\n",
       "    </tr>\n",
       "  </tbody>\n",
       "</table>\n",
       "<p>101 rows × 7 columns</p>\n",
       "</div>"
      ],
      "text/plain": [
       "                               id  name  country_code  hand  age  url  \\\n",
       "country                                                                 \n",
       "USA                           131   131           131   131  131  131   \n",
       "ITALY                         130   130           130   130  130  130   \n",
       "GERMANY                       113   113           113   113  113  113   \n",
       "FRANCE                         88    88            88    88   88   88   \n",
       "GREAT BRITAIN                  87    87            87    87   87   87   \n",
       "...                           ...   ...           ...   ...  ...  ...   \n",
       "SAUDI ARABIA                    1     1             1     1    1    1   \n",
       "BOTSWANA                        1     1             1     1    1    1   \n",
       "DEMOCRATIC REPUBLIC OF CONGO    1     1             1     1    1    1   \n",
       "BS                              1     1             1     1    1    1   \n",
       "BRUNEI DARUSSALAM               1     1             1     1    1    1   \n",
       "\n",
       "                              date_accessed  \n",
       "country                                      \n",
       "USA                                     131  \n",
       "ITALY                                   130  \n",
       "GERMANY                                 113  \n",
       "FRANCE                                   88  \n",
       "GREAT BRITAIN                            87  \n",
       "...                                     ...  \n",
       "SAUDI ARABIA                              1  \n",
       "BOTSWANA                                  1  \n",
       "DEMOCRATIC REPUBLIC OF CONGO              1  \n",
       "BS                                        1  \n",
       "BRUNEI DARUSSALAM                         1  \n",
       "\n",
       "[101 rows x 7 columns]"
      ]
     },
     "execution_count": 24,
     "metadata": {},
     "output_type": "execute_result"
    }
   ],
   "source": [
    "fencer_bio_df.groupby('country').count().sort_values(by=['id'],ascending=False)"
   ]
  },
  {
   "cell_type": "code",
   "execution_count": 25,
   "id": "a1dcb184",
   "metadata": {},
   "outputs": [
    {
     "data": {
      "text/html": [
       "<div>\n",
       "<style scoped>\n",
       "    .dataframe tbody tr th:only-of-type {\n",
       "        vertical-align: middle;\n",
       "    }\n",
       "\n",
       "    .dataframe tbody tr th {\n",
       "        vertical-align: top;\n",
       "    }\n",
       "\n",
       "    .dataframe thead th {\n",
       "        text-align: right;\n",
       "    }\n",
       "</style>\n",
       "<table border=\"1\" class=\"dataframe\">\n",
       "  <thead>\n",
       "    <tr style=\"text-align: right;\">\n",
       "      <th></th>\n",
       "      <th>id</th>\n",
       "      <th>name</th>\n",
       "      <th>country_code</th>\n",
       "      <th>country</th>\n",
       "      <th>hand</th>\n",
       "      <th>age</th>\n",
       "      <th>url</th>\n",
       "      <th>date_accessed</th>\n",
       "    </tr>\n",
       "  </thead>\n",
       "  <tbody>\n",
       "    <tr>\n",
       "      <th>408</th>\n",
       "      <td>47552</td>\n",
       "      <td>AUNG Phyu Phyu</td>\n",
       "      <td>MM</td>\n",
       "      <td>MM</td>\n",
       "      <td>Right</td>\n",
       "      <td>24</td>\n",
       "      <td>https://fie.org/athletes/47552</td>\n",
       "      <td>2021-05-13 21:51:57</td>\n",
       "    </tr>\n",
       "    <tr>\n",
       "      <th>409</th>\n",
       "      <td>47553</td>\n",
       "      <td>SOE Nan Ei</td>\n",
       "      <td>MM</td>\n",
       "      <td>MM</td>\n",
       "      <td>Right</td>\n",
       "      <td>19</td>\n",
       "      <td>https://fie.org/athletes/47553</td>\n",
       "      <td>2021-05-13 21:51:58</td>\n",
       "    </tr>\n",
       "    <tr>\n",
       "      <th>1373</th>\n",
       "      <td>51548</td>\n",
       "      <td>MEJIA LOPEZ Angie Fabiola</td>\n",
       "      <td>HN</td>\n",
       "      <td>HN</td>\n",
       "      <td>Right</td>\n",
       "      <td>16</td>\n",
       "      <td>https://fie.org/athletes/51548</td>\n",
       "      <td>2021-05-13 21:32:58</td>\n",
       "    </tr>\n",
       "    <tr>\n",
       "      <th>1772</th>\n",
       "      <td>39056</td>\n",
       "      <td>LOPEZ FLORES Kateryn Gissel</td>\n",
       "      <td>HN</td>\n",
       "      <td>HN</td>\n",
       "      <td>Right</td>\n",
       "      <td>24</td>\n",
       "      <td>https://fie.org/athletes/39056</td>\n",
       "      <td>2021-05-13 21:50:39</td>\n",
       "    </tr>\n",
       "    <tr>\n",
       "      <th>1807</th>\n",
       "      <td>40178</td>\n",
       "      <td>ALBUAINAIN Sumaya</td>\n",
       "      <td>BH</td>\n",
       "      <td>BH</td>\n",
       "      <td>Right</td>\n",
       "      <td>19</td>\n",
       "      <td>https://fie.org/athletes/40178</td>\n",
       "      <td>2021-05-13 21:54:32</td>\n",
       "    </tr>\n",
       "    <tr>\n",
       "      <th>1808</th>\n",
       "      <td>40179</td>\n",
       "      <td>ALI Muna</td>\n",
       "      <td>BH</td>\n",
       "      <td>BH</td>\n",
       "      <td>Right</td>\n",
       "      <td>24</td>\n",
       "      <td>https://fie.org/athletes/40179</td>\n",
       "      <td>2021-05-13 21:54:32</td>\n",
       "    </tr>\n",
       "    <tr>\n",
       "      <th>1809</th>\n",
       "      <td>40180</td>\n",
       "      <td>FARDEEN Layla</td>\n",
       "      <td>BH</td>\n",
       "      <td>BH</td>\n",
       "      <td>Right</td>\n",
       "      <td>19</td>\n",
       "      <td>https://fie.org/athletes/40180</td>\n",
       "      <td>2021-05-13 21:54:42</td>\n",
       "    </tr>\n",
       "    <tr>\n",
       "      <th>1810</th>\n",
       "      <td>40181</td>\n",
       "      <td>MOHAMED Maram</td>\n",
       "      <td>BH</td>\n",
       "      <td>BH</td>\n",
       "      <td>Right</td>\n",
       "      <td>19</td>\n",
       "      <td>https://fie.org/athletes/40181</td>\n",
       "      <td>2021-05-13 21:54:38</td>\n",
       "    </tr>\n",
       "    <tr>\n",
       "      <th>1915</th>\n",
       "      <td>46850</td>\n",
       "      <td>LIANG Jenny</td>\n",
       "      <td>AS</td>\n",
       "      <td>AS</td>\n",
       "      <td>Right</td>\n",
       "      <td>18</td>\n",
       "      <td>https://fie.org/athletes/46850</td>\n",
       "      <td>2021-05-13 21:49:13</td>\n",
       "    </tr>\n",
       "    <tr>\n",
       "      <th>2034</th>\n",
       "      <td>41583</td>\n",
       "      <td>CLARE Alana</td>\n",
       "      <td>BS</td>\n",
       "      <td>BS</td>\n",
       "      <td>Right</td>\n",
       "      <td>26</td>\n",
       "      <td>https://fie.org/athletes/41583</td>\n",
       "      <td>2021-05-13 21:21:46</td>\n",
       "    </tr>\n",
       "    <tr>\n",
       "      <th>2049</th>\n",
       "      <td>35497</td>\n",
       "      <td>ABEYNAYAKA Ashoka Udayangani</td>\n",
       "      <td>LK</td>\n",
       "      <td>LK</td>\n",
       "      <td>Right</td>\n",
       "      <td>32</td>\n",
       "      <td>https://fie.org/athletes/35497</td>\n",
       "      <td>2021-05-13 21:34:51</td>\n",
       "    </tr>\n",
       "    <tr>\n",
       "      <th>2093</th>\n",
       "      <td>44401</td>\n",
       "      <td>PRAKASHAM Reeta</td>\n",
       "      <td>LK</td>\n",
       "      <td>LK</td>\n",
       "      <td>Right</td>\n",
       "      <td>29</td>\n",
       "      <td>https://fie.org/athletes/44401</td>\n",
       "      <td>2021-05-13 21:38:48</td>\n",
       "    </tr>\n",
       "  </tbody>\n",
       "</table>\n",
       "</div>"
      ],
      "text/plain": [
       "         id                          name country_code country   hand age  \\\n",
       "408   47552                AUNG Phyu Phyu           MM      MM  Right  24   \n",
       "409   47553                    SOE Nan Ei           MM      MM  Right  19   \n",
       "1373  51548     MEJIA LOPEZ Angie Fabiola           HN      HN  Right  16   \n",
       "1772  39056   LOPEZ FLORES Kateryn Gissel           HN      HN  Right  24   \n",
       "1807  40178             ALBUAINAIN Sumaya           BH      BH  Right  19   \n",
       "1808  40179                      ALI Muna           BH      BH  Right  24   \n",
       "1809  40180                 FARDEEN Layla           BH      BH  Right  19   \n",
       "1810  40181                 MOHAMED Maram           BH      BH  Right  19   \n",
       "1915  46850                   LIANG Jenny           AS      AS  Right  18   \n",
       "2034  41583                   CLARE Alana           BS      BS  Right  26   \n",
       "2049  35497  ABEYNAYAKA Ashoka Udayangani           LK      LK  Right  32   \n",
       "2093  44401               PRAKASHAM Reeta           LK      LK  Right  29   \n",
       "\n",
       "                                 url        date_accessed  \n",
       "408   https://fie.org/athletes/47552  2021-05-13 21:51:57  \n",
       "409   https://fie.org/athletes/47553  2021-05-13 21:51:58  \n",
       "1373  https://fie.org/athletes/51548  2021-05-13 21:32:58  \n",
       "1772  https://fie.org/athletes/39056  2021-05-13 21:50:39  \n",
       "1807  https://fie.org/athletes/40178  2021-05-13 21:54:32  \n",
       "1808  https://fie.org/athletes/40179  2021-05-13 21:54:32  \n",
       "1809  https://fie.org/athletes/40180  2021-05-13 21:54:42  \n",
       "1810  https://fie.org/athletes/40181  2021-05-13 21:54:38  \n",
       "1915  https://fie.org/athletes/46850  2021-05-13 21:49:13  \n",
       "2034  https://fie.org/athletes/41583  2021-05-13 21:21:46  \n",
       "2049  https://fie.org/athletes/35497  2021-05-13 21:34:51  \n",
       "2093  https://fie.org/athletes/44401  2021-05-13 21:38:48  "
      ]
     },
     "execution_count": 25,
     "metadata": {},
     "output_type": "execute_result"
    }
   ],
   "source": [
    "# check fencers whose 'country' name seems to be the country code  \n",
    "fencer_bio_df[fencer_bio_df['country'].apply(lambda x: len(x) < 3)]\n",
    "# confirmed, code=name so not getting translated into country "
   ]
  },
  {
   "cell_type": "code",
   "execution_count": 26,
   "id": "417b0980",
   "metadata": {},
   "outputs": [
    {
     "name": "stdout",
     "output_type": "stream",
     "text": [
      "Number of countries with missing country names: 6\n",
      "Country codes with no country names: \n",
      "   ['AS', 'BH', 'BS', 'HN', 'LK', 'MM']\n"
     ]
    }
   ],
   "source": [
    "# count number of countries affected \n",
    "count = fencer_bio_df[fencer_bio_df['country'].apply(lambda x: len(x) < 3)].groupby('country').count().shape[0]\n",
    "print(\"Number of countries with missing country names: {}\".format(count))\n",
    "missing_country_name_list = fencer_bio_df[fencer_bio_df['country'].apply(lambda x: len(x) < 3)].groupby('country').count().index\n",
    "print(\"Country codes with no country names: \\n   {}\".format(list(missing_country_name_list)))"
   ]
  },
  {
   "cell_type": "markdown",
   "id": "f0633562",
   "metadata": {},
   "source": [
    "By checking the fencer's webpages and identifying flags, here are the missing country names: \n",
    "\n",
    "* AS = AMERICAN SAMOA\n",
    "* BH = BAHRAIN\n",
    "* BS = BAHAMAS\n",
    "* HN = HONDURAS\n",
    "* LK = SRI LANKA\n",
    "* MM = MYANMAR"
   ]
  },
  {
   "cell_type": "code",
   "execution_count": 27,
   "id": "032a0dd1",
   "metadata": {},
   "outputs": [],
   "source": [
    "country_code_to_name_dict = {'AS': 'AMERICAN SAMOA', 'BH': 'BAHRAIN', 'BS': 'BAHAMAS', \n",
    "                             'HN': 'HONDURAS', 'LK': 'SRI LANKA',  'MM': 'MYANMAR'}\n",
    "fencer_bio_df['country'] = fencer_bio_df['country'].replace(country_code_to_name_dict)"
   ]
  },
  {
   "cell_type": "code",
   "execution_count": 28,
   "id": "f9141e3a",
   "metadata": {},
   "outputs": [
    {
     "name": "stdout",
     "output_type": "stream",
     "text": [
      "Successfully replaced all country codes in country (i.e. name) column!\n"
     ]
    }
   ],
   "source": [
    "assert fencer_bio_df[fencer_bio_df['country'].apply(lambda x: len(x) < 3)].shape[0] == 0, \\\n",
    "    \"Some country codes remaining\"\n",
    "print(\"Successfully replaced all country codes in country (i.e. name) column!\")"
   ]
  },
  {
   "cell_type": "code",
   "execution_count": 29,
   "id": "bd5575ca",
   "metadata": {},
   "outputs": [
    {
     "data": {
      "text/html": [
       "<div>\n",
       "<style scoped>\n",
       "    .dataframe tbody tr th:only-of-type {\n",
       "        vertical-align: middle;\n",
       "    }\n",
       "\n",
       "    .dataframe tbody tr th {\n",
       "        vertical-align: top;\n",
       "    }\n",
       "\n",
       "    .dataframe thead th {\n",
       "        text-align: right;\n",
       "    }\n",
       "</style>\n",
       "<table border=\"1\" class=\"dataframe\">\n",
       "  <thead>\n",
       "    <tr style=\"text-align: right;\">\n",
       "      <th></th>\n",
       "      <th>id</th>\n",
       "      <th>name</th>\n",
       "      <th>country_code</th>\n",
       "      <th>hand</th>\n",
       "      <th>age</th>\n",
       "      <th>url</th>\n",
       "      <th>date_accessed</th>\n",
       "    </tr>\n",
       "    <tr>\n",
       "      <th>country</th>\n",
       "      <th></th>\n",
       "      <th></th>\n",
       "      <th></th>\n",
       "      <th></th>\n",
       "      <th></th>\n",
       "      <th></th>\n",
       "      <th></th>\n",
       "    </tr>\n",
       "  </thead>\n",
       "  <tbody>\n",
       "    <tr>\n",
       "      <th>ARUBA</th>\n",
       "      <td>2</td>\n",
       "      <td>2</td>\n",
       "      <td>2</td>\n",
       "      <td>2</td>\n",
       "      <td>2</td>\n",
       "      <td>2</td>\n",
       "      <td>2</td>\n",
       "    </tr>\n",
       "    <tr>\n",
       "      <th>CHILE</th>\n",
       "      <td>14</td>\n",
       "      <td>14</td>\n",
       "      <td>14</td>\n",
       "      <td>14</td>\n",
       "      <td>14</td>\n",
       "      <td>14</td>\n",
       "      <td>14</td>\n",
       "    </tr>\n",
       "    <tr>\n",
       "      <th>CHINA</th>\n",
       "      <td>60</td>\n",
       "      <td>60</td>\n",
       "      <td>60</td>\n",
       "      <td>60</td>\n",
       "      <td>60</td>\n",
       "      <td>60</td>\n",
       "      <td>60</td>\n",
       "    </tr>\n",
       "    <tr>\n",
       "      <th>CUBA</th>\n",
       "      <td>15</td>\n",
       "      <td>15</td>\n",
       "      <td>15</td>\n",
       "      <td>15</td>\n",
       "      <td>15</td>\n",
       "      <td>15</td>\n",
       "      <td>15</td>\n",
       "    </tr>\n",
       "    <tr>\n",
       "      <th>EGYPT</th>\n",
       "      <td>38</td>\n",
       "      <td>38</td>\n",
       "      <td>38</td>\n",
       "      <td>38</td>\n",
       "      <td>38</td>\n",
       "      <td>38</td>\n",
       "      <td>38</td>\n",
       "    </tr>\n",
       "    <tr>\n",
       "      <th>GHANA</th>\n",
       "      <td>4</td>\n",
       "      <td>4</td>\n",
       "      <td>4</td>\n",
       "      <td>4</td>\n",
       "      <td>4</td>\n",
       "      <td>4</td>\n",
       "      <td>4</td>\n",
       "    </tr>\n",
       "    <tr>\n",
       "      <th>INDIA</th>\n",
       "      <td>37</td>\n",
       "      <td>37</td>\n",
       "      <td>37</td>\n",
       "      <td>37</td>\n",
       "      <td>37</td>\n",
       "      <td>37</td>\n",
       "      <td>37</td>\n",
       "    </tr>\n",
       "    <tr>\n",
       "      <th>IRAN</th>\n",
       "      <td>10</td>\n",
       "      <td>10</td>\n",
       "      <td>10</td>\n",
       "      <td>10</td>\n",
       "      <td>10</td>\n",
       "      <td>10</td>\n",
       "      <td>10</td>\n",
       "    </tr>\n",
       "    <tr>\n",
       "      <th>ITALY</th>\n",
       "      <td>130</td>\n",
       "      <td>130</td>\n",
       "      <td>130</td>\n",
       "      <td>130</td>\n",
       "      <td>130</td>\n",
       "      <td>130</td>\n",
       "      <td>130</td>\n",
       "    </tr>\n",
       "    <tr>\n",
       "      <th>JAPAN</th>\n",
       "      <td>70</td>\n",
       "      <td>70</td>\n",
       "      <td>70</td>\n",
       "      <td>70</td>\n",
       "      <td>70</td>\n",
       "      <td>70</td>\n",
       "      <td>70</td>\n",
       "    </tr>\n",
       "    <tr>\n",
       "      <th>KOREA</th>\n",
       "      <td>67</td>\n",
       "      <td>67</td>\n",
       "      <td>67</td>\n",
       "      <td>66</td>\n",
       "      <td>67</td>\n",
       "      <td>67</td>\n",
       "      <td>67</td>\n",
       "    </tr>\n",
       "    <tr>\n",
       "      <th>NEPAL</th>\n",
       "      <td>2</td>\n",
       "      <td>2</td>\n",
       "      <td>2</td>\n",
       "      <td>2</td>\n",
       "      <td>2</td>\n",
       "      <td>2</td>\n",
       "      <td>2</td>\n",
       "    </tr>\n",
       "    <tr>\n",
       "      <th>PERU</th>\n",
       "      <td>10</td>\n",
       "      <td>10</td>\n",
       "      <td>10</td>\n",
       "      <td>10</td>\n",
       "      <td>10</td>\n",
       "      <td>10</td>\n",
       "      <td>10</td>\n",
       "    </tr>\n",
       "    <tr>\n",
       "      <th>QATAR</th>\n",
       "      <td>8</td>\n",
       "      <td>8</td>\n",
       "      <td>8</td>\n",
       "      <td>8</td>\n",
       "      <td>8</td>\n",
       "      <td>8</td>\n",
       "      <td>8</td>\n",
       "    </tr>\n",
       "    <tr>\n",
       "      <th>SPAIN</th>\n",
       "      <td>39</td>\n",
       "      <td>39</td>\n",
       "      <td>39</td>\n",
       "      <td>39</td>\n",
       "      <td>39</td>\n",
       "      <td>39</td>\n",
       "      <td>39</td>\n",
       "    </tr>\n",
       "    <tr>\n",
       "      <th>TOGO</th>\n",
       "      <td>7</td>\n",
       "      <td>7</td>\n",
       "      <td>7</td>\n",
       "      <td>7</td>\n",
       "      <td>7</td>\n",
       "      <td>7</td>\n",
       "      <td>7</td>\n",
       "    </tr>\n",
       "    <tr>\n",
       "      <th>USA</th>\n",
       "      <td>131</td>\n",
       "      <td>131</td>\n",
       "      <td>131</td>\n",
       "      <td>131</td>\n",
       "      <td>131</td>\n",
       "      <td>131</td>\n",
       "      <td>131</td>\n",
       "    </tr>\n",
       "  </tbody>\n",
       "</table>\n",
       "</div>"
      ],
      "text/plain": [
       "          id  name  country_code  hand  age  url  date_accessed\n",
       "country                                                        \n",
       "ARUBA      2     2             2     2    2    2              2\n",
       "CHILE     14    14            14    14   14   14             14\n",
       "CHINA     60    60            60    60   60   60             60\n",
       "CUBA      15    15            15    15   15   15             15\n",
       "EGYPT     38    38            38    38   38   38             38\n",
       "GHANA      4     4             4     4    4    4              4\n",
       "INDIA     37    37            37    37   37   37             37\n",
       "IRAN      10    10            10    10   10   10             10\n",
       "ITALY    130   130           130   130  130  130            130\n",
       "JAPAN     70    70            70    70   70   70             70\n",
       "KOREA     67    67            67    66   67   67             67\n",
       "NEPAL      2     2             2     2    2    2              2\n",
       "PERU      10    10            10    10   10   10             10\n",
       "QATAR      8     8             8     8    8    8              8\n",
       "SPAIN     39    39            39    39   39   39             39\n",
       "TOGO       7     7             7     7    7    7              7\n",
       "USA      131   131           131   131  131  131            131"
      ]
     },
     "execution_count": 29,
     "metadata": {},
     "output_type": "execute_result"
    }
   ],
   "source": [
    "# double check that other short 'country' names are in fact names\n",
    "fencer_bio_df[fencer_bio_df['country'].apply(lambda x: len(x)  <= 5)].groupby('country').count()"
   ]
  },
  {
   "cell_type": "markdown",
   "id": "60c5309e",
   "metadata": {},
   "source": [
    "#### Conclusions\n",
    "\n",
    "There were 6 countries with missing country names (only country codes). By identifying the flags, I constructed a relabeling for the country codes. All fencer's now have a country name of length at least 3, and those of length 5 or less have been manually reviewed to be country names.  "
   ]
  },
  {
   "cell_type": "markdown",
   "id": "9a653e52",
   "metadata": {},
   "source": [
    "### Examine rankings/points \n",
    "\n",
    "Especially pay close attention to 'cadet' points, some seemed to be missing in the data creation process. "
   ]
  },
  {
   "cell_type": "code",
   "execution_count": 30,
   "id": "c3ae6e18",
   "metadata": {},
   "outputs": [],
   "source": [
    "## DO SOME DATA ANALYSIS HERE"
   ]
  },
  {
   "cell_type": "markdown",
   "id": "0a4335d3",
   "metadata": {},
   "source": [
    "#### Conclusions"
   ]
  },
  {
   "cell_type": "markdown",
   "id": "7d4787e0-f54d-4b34-bb5b-35ca10d95efa",
   "metadata": {},
   "source": [
    "### Examine fencer bout/event counts \n",
    "\n",
    "Look at number of bouts per fencer, if a fencer has only pool of data, how useful are they? \n",
    "\n",
    "For top fencers, expecte to see many tournaments which would allow for focusing only on those with many results. "
   ]
  },
  {
   "cell_type": "code",
   "execution_count": 61,
   "id": "debf0531-373c-4039-802f-1e7a454225c4",
   "metadata": {},
   "outputs": [
    {
     "data": {
      "text/plain": [
       "0       28761\n",
       "1       43803\n",
       "2       46080\n",
       "3       46481\n",
       "4       47075\n",
       "        ...  \n",
       "2117    51177\n",
       "2118    40429\n",
       "2119    51183\n",
       "2120    51186\n",
       "2121    51193\n",
       "Name: id, Length: 2108, dtype: int64"
      ]
     },
     "execution_count": 61,
     "metadata": {},
     "output_type": "execute_result"
    }
   ],
   "source": [
    "fencer_bio_df['id']"
   ]
  },
  {
   "cell_type": "code",
   "execution_count": 69,
   "id": "0f314ace-2520-4afb-87c9-36598106345d",
   "metadata": {},
   "outputs": [
    {
     "data": {
      "text/plain": [
       "id\n",
       "164      16\n",
       "234       6\n",
       "1006      5\n",
       "1276      6\n",
       "1412      3\n",
       "         ..\n",
       "53148    11\n",
       "53151     5\n",
       "53161     6\n",
       "53162     6\n",
       "53200     5\n",
       "Length: 2108, dtype: int64"
      ]
     },
     "execution_count": 69,
     "metadata": {},
     "output_type": "execute_result"
    }
   ],
   "source": [
    "# get number of bouts per fencer \n",
    "bout_count1 = bout_df['fencer_ID'].value_counts().reindex(fencer_bio_df['id'], fill_value=0).sort_index()\n",
    "bout_count2 = bout_df['opp_ID'].value_counts().reindex(fencer_bio_df['id'], fill_value=0).sort_index()\n",
    "bout_count_by_ID = bout_count1 + bout_count2\n",
    "bout_count_by_ID"
   ]
  },
  {
   "cell_type": "code",
   "execution_count": 73,
   "id": "eb1880e8-0124-4a2b-b7fb-0242a18976de",
   "metadata": {},
   "outputs": [
    {
     "data": {
      "text/plain": [
       "<AxesSubplot:ylabel='Frequency'>"
      ]
     },
     "execution_count": 73,
     "metadata": {},
     "output_type": "execute_result"
    },
    {
     "data": {
      "image/png": "[encoded data removed]",
      "text/plain": [
       "<Figure size 432x288 with 1 Axes>"
      ]
     },
     "metadata": {
      "needs_background": "light"
     },
     "output_type": "display_data"
    }
   ],
   "source": [
    "bout_count_by_ID.plot(kind='hist')"
   ]
  },
  {
   "cell_type": "code",
   "execution_count": 75,
   "id": "ca08322b-152e-47a6-b764-be4546a32f6e",
   "metadata": {},
   "outputs": [
    {
     "data": {
      "text/plain": [
       "id\n",
       "9309     340\n",
       "12780    303\n",
       "15200    302\n",
       "18774    368\n",
       "19574    344\n",
       "dtype: int64"
      ]
     },
     "execution_count": 75,
     "metadata": {},
     "output_type": "execute_result"
    }
   ],
   "source": [
    "bout_count_by_ID[bout_count_by_ID>300].head()\n",
    "# spot check that these fencers do have a lot of results\n",
    "# checked several, all seem to have been fencing in FIE events since 2000s so 300+ bouts seems plausible "
   ]
  },
  {
   "cell_type": "code",
   "execution_count": 90,
   "id": "2184622c-acae-4aeb-972e-8faef36e2269",
   "metadata": {},
   "outputs": [
    {
     "data": {
      "text/html": [
       "<div>\n",
       "<style scoped>\n",
       "    .dataframe tbody tr th:only-of-type {\n",
       "        vertical-align: middle;\n",
       "    }\n",
       "\n",
       "    .dataframe tbody tr th {\n",
       "        vertical-align: top;\n",
       "    }\n",
       "\n",
       "    .dataframe thead th {\n",
       "        text-align: right;\n",
       "    }\n",
       "</style>\n",
       "<table border=\"1\" class=\"dataframe\">\n",
       "  <thead>\n",
       "    <tr style=\"text-align: right;\">\n",
       "      <th></th>\n",
       "      <th>fencer_ID</th>\n",
       "      <th>tournament_ID</th>\n",
       "      <th>pool_ID</th>\n",
       "      <th>upset</th>\n",
       "      <th>date</th>\n",
       "    </tr>\n",
       "  </thead>\n",
       "  <tbody>\n",
       "    <tr>\n",
       "      <th>0</th>\n",
       "      <td>36796</td>\n",
       "      <td>2021-121</td>\n",
       "      <td>1</td>\n",
       "      <td>False</td>\n",
       "      <td>2021-03-26</td>\n",
       "    </tr>\n",
       "    <tr>\n",
       "      <th>1</th>\n",
       "      <td>36796</td>\n",
       "      <td>2021-121</td>\n",
       "      <td>1</td>\n",
       "      <td>False</td>\n",
       "      <td>2021-03-26</td>\n",
       "    </tr>\n",
       "    <tr>\n",
       "      <th>2</th>\n",
       "      <td>36796</td>\n",
       "      <td>2021-121</td>\n",
       "      <td>1</td>\n",
       "      <td>True</td>\n",
       "      <td>2021-03-26</td>\n",
       "    </tr>\n",
       "    <tr>\n",
       "      <th>3</th>\n",
       "      <td>36796</td>\n",
       "      <td>2021-121</td>\n",
       "      <td>1</td>\n",
       "      <td>True</td>\n",
       "      <td>2021-03-26</td>\n",
       "    </tr>\n",
       "    <tr>\n",
       "      <th>4</th>\n",
       "      <td>36796</td>\n",
       "      <td>2021-121</td>\n",
       "      <td>1</td>\n",
       "      <td>False</td>\n",
       "      <td>2021-03-26</td>\n",
       "    </tr>\n",
       "    <tr>\n",
       "      <th>...</th>\n",
       "      <td>...</td>\n",
       "      <td>...</td>\n",
       "      <td>...</td>\n",
       "      <td>...</td>\n",
       "      <td>...</td>\n",
       "    </tr>\n",
       "    <tr>\n",
       "      <th>49132</th>\n",
       "      <td>32336</td>\n",
       "      <td>2018-1218</td>\n",
       "      <td>5</td>\n",
       "      <td>False</td>\n",
       "      <td>2017-12-09</td>\n",
       "    </tr>\n",
       "    <tr>\n",
       "      <th>49133</th>\n",
       "      <td>35935</td>\n",
       "      <td>2018-1218</td>\n",
       "      <td>5</td>\n",
       "      <td>False</td>\n",
       "      <td>2017-12-09</td>\n",
       "    </tr>\n",
       "    <tr>\n",
       "      <th>49134</th>\n",
       "      <td>32336</td>\n",
       "      <td>2018-1218</td>\n",
       "      <td>5</td>\n",
       "      <td>False</td>\n",
       "      <td>2017-12-09</td>\n",
       "    </tr>\n",
       "    <tr>\n",
       "      <th>49135</th>\n",
       "      <td>35935</td>\n",
       "      <td>2018-1218</td>\n",
       "      <td>5</td>\n",
       "      <td>False</td>\n",
       "      <td>2017-12-09</td>\n",
       "    </tr>\n",
       "    <tr>\n",
       "      <th>49136</th>\n",
       "      <td>35935</td>\n",
       "      <td>2018-1218</td>\n",
       "      <td>5</td>\n",
       "      <td>False</td>\n",
       "      <td>2017-12-09</td>\n",
       "    </tr>\n",
       "  </tbody>\n",
       "</table>\n",
       "<p>98262 rows × 5 columns</p>\n",
       "</div>"
      ],
      "text/plain": [
       "       fencer_ID tournament_ID  pool_ID  upset        date\n",
       "0          36796      2021-121        1  False  2021-03-26\n",
       "1          36796      2021-121        1  False  2021-03-26\n",
       "2          36796      2021-121        1   True  2021-03-26\n",
       "3          36796      2021-121        1   True  2021-03-26\n",
       "4          36796      2021-121        1  False  2021-03-26\n",
       "...          ...           ...      ...    ...         ...\n",
       "49132      32336     2018-1218        5  False  2017-12-09\n",
       "49133      35935     2018-1218        5  False  2017-12-09\n",
       "49134      32336     2018-1218        5  False  2017-12-09\n",
       "49135      35935     2018-1218        5  False  2017-12-09\n",
       "49136      35935     2018-1218        5  False  2017-12-09\n",
       "\n",
       "[98262 rows x 5 columns]"
      ]
     },
     "execution_count": 90,
     "metadata": {},
     "output_type": "execute_result"
    }
   ],
   "source": [
    "# create a dataframe for bouts with one row per fencer ID\n",
    "# 'fencer_ID', 'opp_ID', 'fencer_age', 'opp_age', 'fencer_score', 'opp_score', \n",
    "# 'winner_ID', 'fencer_curr_pts', 'opp_curr_pts', 'tournament_ID', 'pool_ID', 'upset', 'date']\n",
    "fencer_1_bouts = bout_df.loc[:, ['fencer_ID','tournament_ID','pool_ID', 'upset', 'date']]\n",
    "fencer_2_bouts = bout_df.loc[:, ['opp_ID','tournament_ID','pool_ID', 'upset', 'date']]\n",
    "fencer_2_bouts.rename(columns={\"opp_ID\": \"fencer_ID\"}, inplace=True)\n",
    "\n",
    "bouts_single_fencer_ID = pd.concat([fencer_1_bouts, fencer_2_bouts])\n",
    "bouts_single_fencer_ID"
   ]
  },
  {
   "cell_type": "code",
   "execution_count": 96,
   "id": "b25fb80e-1003-4ab1-a085-1afb81a5800c",
   "metadata": {},
   "outputs": [
    {
     "data": {
      "text/plain": [
       "369"
      ]
     },
     "execution_count": 96,
     "metadata": {},
     "output_type": "execute_result"
    }
   ],
   "source": [
    "fencer_1_bouts[fencer_1_bouts['tournament_ID']=='2021-121'].count()['fencer_ID']"
   ]
  },
  {
   "cell_type": "code",
   "execution_count": 98,
   "id": "f598d3ed-1ac9-47ff-83dd-ef7926fa38ea",
   "metadata": {},
   "outputs": [
    {
     "data": {
      "text/plain": [
       "738"
      ]
     },
     "execution_count": 98,
     "metadata": {},
     "output_type": "execute_result"
    }
   ],
   "source": [
    "# verify number of 'bouts' in new df for given tournament, should be double of original \n",
    "bouts_single_fencer_ID[bouts_single_fencer_ID['tournament_ID']=='2021-121'].count()['fencer_ID']"
   ]
  },
  {
   "cell_type": "code",
   "execution_count": 101,
   "id": "9bcb28c3-66c2-47a4-914d-b6ba75fbe4d3",
   "metadata": {},
   "outputs": [
    {
     "data": {
      "text/html": [
       "<div>\n",
       "<style scoped>\n",
       "    .dataframe tbody tr th:only-of-type {\n",
       "        vertical-align: middle;\n",
       "    }\n",
       "\n",
       "    .dataframe tbody tr th {\n",
       "        vertical-align: top;\n",
       "    }\n",
       "\n",
       "    .dataframe thead th {\n",
       "        text-align: right;\n",
       "    }\n",
       "</style>\n",
       "<table border=\"1\" class=\"dataframe\">\n",
       "  <thead>\n",
       "    <tr style=\"text-align: right;\">\n",
       "      <th></th>\n",
       "      <th>fencer_ID</th>\n",
       "      <th>tournament_ID</th>\n",
       "      <th>pool_ID</th>\n",
       "      <th>upset</th>\n",
       "      <th>date</th>\n",
       "    </tr>\n",
       "  </thead>\n",
       "  <tbody>\n",
       "    <tr>\n",
       "      <th>35514</th>\n",
       "      <td>234</td>\n",
       "      <td>2018-1359</td>\n",
       "      <td>1</td>\n",
       "      <td>False</td>\n",
       "      <td>2018-10-11</td>\n",
       "    </tr>\n",
       "    <tr>\n",
       "      <th>35515</th>\n",
       "      <td>234</td>\n",
       "      <td>2018-1359</td>\n",
       "      <td>1</td>\n",
       "      <td>False</td>\n",
       "      <td>2018-10-11</td>\n",
       "    </tr>\n",
       "    <tr>\n",
       "      <th>35516</th>\n",
       "      <td>234</td>\n",
       "      <td>2018-1359</td>\n",
       "      <td>1</td>\n",
       "      <td>False</td>\n",
       "      <td>2018-10-11</td>\n",
       "    </tr>\n",
       "    <tr>\n",
       "      <th>35517</th>\n",
       "      <td>234</td>\n",
       "      <td>2018-1359</td>\n",
       "      <td>1</td>\n",
       "      <td>False</td>\n",
       "      <td>2018-10-11</td>\n",
       "    </tr>\n",
       "    <tr>\n",
       "      <th>35518</th>\n",
       "      <td>234</td>\n",
       "      <td>2018-1359</td>\n",
       "      <td>1</td>\n",
       "      <td>False</td>\n",
       "      <td>2018-10-11</td>\n",
       "    </tr>\n",
       "    <tr>\n",
       "      <th>35508</th>\n",
       "      <td>234</td>\n",
       "      <td>2018-1359</td>\n",
       "      <td>1</td>\n",
       "      <td>False</td>\n",
       "      <td>2018-10-11</td>\n",
       "    </tr>\n",
       "  </tbody>\n",
       "</table>\n",
       "</div>"
      ],
      "text/plain": [
       "       fencer_ID tournament_ID  pool_ID  upset        date\n",
       "35514        234     2018-1359        1  False  2018-10-11\n",
       "35515        234     2018-1359        1  False  2018-10-11\n",
       "35516        234     2018-1359        1  False  2018-10-11\n",
       "35517        234     2018-1359        1  False  2018-10-11\n",
       "35518        234     2018-1359        1  False  2018-10-11\n",
       "35508        234     2018-1359        1  False  2018-10-11"
      ]
     },
     "execution_count": 101,
     "metadata": {},
     "output_type": "execute_result"
    }
   ],
   "source": [
    "# check a fencer with few tournament results\n",
    "bouts_single_fencer_ID[bouts_single_fencer_ID['fencer_ID']==234]\n",
    "# this one has many results listed on FIE (from ~2007) but because of data void pre 2013 no pools data to show "
   ]
  },
  {
   "cell_type": "code",
   "execution_count": 112,
   "id": "5a1e297c-fd1d-4ecb-8e23-4d9bf6deee28",
   "metadata": {},
   "outputs": [
    {
     "data": {
      "text/html": [
       "<div>\n",
       "<style scoped>\n",
       "    .dataframe tbody tr th:only-of-type {\n",
       "        vertical-align: middle;\n",
       "    }\n",
       "\n",
       "    .dataframe tbody tr th {\n",
       "        vertical-align: top;\n",
       "    }\n",
       "\n",
       "    .dataframe thead th {\n",
       "        text-align: right;\n",
       "    }\n",
       "</style>\n",
       "<table border=\"1\" class=\"dataframe\">\n",
       "  <thead>\n",
       "    <tr style=\"text-align: right;\">\n",
       "      <th></th>\n",
       "      <th>tournament_count</th>\n",
       "    </tr>\n",
       "    <tr>\n",
       "      <th>fencer_ID</th>\n",
       "      <th></th>\n",
       "    </tr>\n",
       "  </thead>\n",
       "  <tbody>\n",
       "    <tr>\n",
       "      <th>164</th>\n",
       "      <td>3</td>\n",
       "    </tr>\n",
       "    <tr>\n",
       "      <th>234</th>\n",
       "      <td>1</td>\n",
       "    </tr>\n",
       "    <tr>\n",
       "      <th>1006</th>\n",
       "      <td>1</td>\n",
       "    </tr>\n",
       "    <tr>\n",
       "      <th>1276</th>\n",
       "      <td>1</td>\n",
       "    </tr>\n",
       "    <tr>\n",
       "      <th>1412</th>\n",
       "      <td>1</td>\n",
       "    </tr>\n",
       "  </tbody>\n",
       "</table>\n",
       "</div>"
      ],
      "text/plain": [
       "           tournament_count\n",
       "fencer_ID                  \n",
       "164                       3\n",
       "234                       1\n",
       "1006                      1\n",
       "1276                      1\n",
       "1412                      1"
      ]
     },
     "execution_count": 112,
     "metadata": {},
     "output_type": "execute_result"
    }
   ],
   "source": [
    "tournament_counts = bouts_single_fencer_ID[['fencer_ID','tournament_ID']].groupby('fencer_ID').nunique()\n",
    "tournament_counts.rename(columns={'tournament_ID':'tournament_count'}, inplace=True)\n",
    "tournament_counts.reindex(fencer_bio_df['id'], fill_value=0).sort_index()\n",
    "tournament_counts.head()"
   ]
  },
  {
   "cell_type": "code",
   "execution_count": 113,
   "id": "34e89062-7b36-4880-b59a-e1c1f587b301",
   "metadata": {},
   "outputs": [
    {
     "data": {
      "text/plain": [
       "<AxesSubplot:ylabel='Frequency'>"
      ]
     },
     "execution_count": 113,
     "metadata": {},
     "output_type": "execute_result"
    },
    {
     "data": {
      "image/png": "[encoded data removed]",
      "text/plain": [
       "<Figure size 432x288 with 1 Axes>"
      ]
     },
     "metadata": {
      "needs_background": "light"
     },
     "output_type": "display_data"
    }
   ],
   "source": [
    "tournament_counts.plot(kind='hist')"
   ]
  },
  {
   "cell_type": "code",
   "execution_count": 111,
   "id": "03eb49e7-7856-4db1-9fec-9e3ac9c5da18",
   "metadata": {},
   "outputs": [
    {
     "data": {
      "text/html": [
       "<div>\n",
       "<style scoped>\n",
       "    .dataframe tbody tr th:only-of-type {\n",
       "        vertical-align: middle;\n",
       "    }\n",
       "\n",
       "    .dataframe tbody tr th {\n",
       "        vertical-align: top;\n",
       "    }\n",
       "\n",
       "    .dataframe thead th {\n",
       "        text-align: right;\n",
       "    }\n",
       "</style>\n",
       "<table border=\"1\" class=\"dataframe\">\n",
       "  <thead>\n",
       "    <tr style=\"text-align: right;\">\n",
       "      <th></th>\n",
       "      <th>tournament_count</th>\n",
       "    </tr>\n",
       "    <tr>\n",
       "      <th>fencer_ID</th>\n",
       "      <th></th>\n",
       "    </tr>\n",
       "  </thead>\n",
       "  <tbody>\n",
       "    <tr>\n",
       "      <th>9309</th>\n",
       "      <td>59</td>\n",
       "    </tr>\n",
       "    <tr>\n",
       "      <th>12780</th>\n",
       "      <td>52</td>\n",
       "    </tr>\n",
       "    <tr>\n",
       "      <th>15200</th>\n",
       "      <td>51</td>\n",
       "    </tr>\n",
       "    <tr>\n",
       "      <th>18774</th>\n",
       "      <td>64</td>\n",
       "    </tr>\n",
       "    <tr>\n",
       "      <th>19574</th>\n",
       "      <td>60</td>\n",
       "    </tr>\n",
       "  </tbody>\n",
       "</table>\n",
       "</div>"
      ],
      "text/plain": [
       "           tournament_count\n",
       "fencer_ID                  \n",
       "9309                     59\n",
       "12780                    52\n",
       "15200                    51\n",
       "18774                    64\n",
       "19574                    60"
      ]
     },
     "execution_count": 111,
     "metadata": {},
     "output_type": "execute_result"
    }
   ],
   "source": [
    "# spot check some fencers with many events to make sure this makes sense \n",
    "tournament_counts[tournament_counts['tournament_count']>50].head()"
   ]
  },
  {
   "cell_type": "code",
   "execution_count": 138,
   "id": "3f202c9b-be04-4f53-996b-03bf4f0faf56",
   "metadata": {},
   "outputs": [
    {
     "name": "stdout",
     "output_type": "stream",
     "text": [
      "Number of fencers who appear in a single event:  630    (30% of fencers)\n",
      "Number of fencers who appear in multiple events: 1478   (70% of fencers)\n"
     ]
    }
   ],
   "source": [
    "# compare number of fencers with multiple events versus single events \n",
    "single_event_fencers = tournament_counts[tournament_counts['tournament_count']==1].shape[0]\n",
    "multi_event_fencers = tournament_counts[tournament_counts['tournament_count']>1].shape[0]\n",
    "total_fencers = fencer_bio_df['id'].shape[0]\n",
    "\n",
    "print(\"Number of fencers who appear in a single event:  {:<6} ({:.0%} of fencers)\".format(single_event_fencers,single_event_fencers/total_fencers))\n",
    "print(\"Number of fencers who appear in multiple events: {:<6} ({:.0%} of fencers)\".format(multi_event_fencers, multi_event_fencers/total_fencers))"
   ]
  },
  {
   "cell_type": "code",
   "execution_count": 115,
   "id": "3b88b7dc-0321-40dd-8514-3b87ec1a965c",
   "metadata": {},
   "outputs": [
    {
     "data": {
      "image/png": "[encoded data removed]",
      "text/plain": [
       "<Figure size 432x288 with 1 Axes>"
      ]
     },
     "metadata": {
      "needs_background": "light"
     },
     "output_type": "display_data"
    }
   ],
   "source": [
    "#compare events/bout count, should be HIGHLY correlated. \n",
    "plt.scatter(x=tournament_counts, y=bout_count_by_ID)\n",
    "plt.show()"
   ]
  },
  {
   "cell_type": "code",
   "execution_count": 143,
   "id": "650e2279-53d0-4699-9849-382b74cc1302",
   "metadata": {},
   "outputs": [
    {
     "data": {
      "text/plain": [
       "Int64Index([  164,  1424,  1455,  1522,  1610,  1633,  1697,  2301,  2469,\n",
       "             2680,\n",
       "            ...\n",
       "            52623, 52627, 52672, 52705, 52735, 52786, 52823, 52920, 53007,\n",
       "            53148],\n",
       "           dtype='int64', name='fencer_ID', length=1478)"
      ]
     },
     "execution_count": 143,
     "metadata": {},
     "output_type": "execute_result"
    }
   ],
   "source": [
    "# count number of bouts represented by the 70% of fencers who have more than 1 event \n",
    "mulit_event_fencer_IDs = tournament_counts[tournament_counts['tournament_count']>1].index"
   ]
  },
  {
   "cell_type": "code",
   "execution_count": 178,
   "id": "25638ef2-f893-4363-bfd7-744d4eab559c",
   "metadata": {},
   "outputs": [],
   "source": [
    "# get indices of bouts with one (|) or both (&) fencers having fenced multiple tournaments \n",
    "indices_of_bouts_part_multi = bout_df[(bout_df['fencer_ID'].isin(mulit_event_fencer_IDs)) |\n",
    "                                      (bout_df['opp_ID'].isin(mulit_event_fencer_IDs))].index\n",
    "indices_of_bouts_both_multi = bout_df[(bout_df['fencer_ID'].isin(mulit_event_fencer_IDs)) &\n",
    "                                      (bout_df['opp_ID'].isin(mulit_event_fencer_IDs))].index"
   ]
  },
  {
   "cell_type": "code",
   "execution_count": 189,
   "id": "350c3dd7-a4a2-4200-a080-b94b1c28f099",
   "metadata": {},
   "outputs": [
    {
     "name": "stdout",
     "output_type": "stream",
     "text": [
      "When restricted to at least one fencer with multiple events:\n",
      "   Number of bouts remaining: 48993\n",
      "   Number of bouts lost:      138\n",
      "   Percentage of bouts lost:  0.28%\n",
      "\n",
      "When restricted to both fencers with multiple events:\n",
      "   Number of bouts remaining: 45693\n",
      "   Number of bouts lost:      3438\n",
      "   Percentage of bouts lost:  7.00%\n"
     ]
    }
   ],
   "source": [
    "count = indices_of_bouts_part_multi.shape[0]\n",
    "total_count= bout_df.shape[0]\n",
    "print(\"When restricted to at least one fencer with multiple events:\")\n",
    "print(\"   Number of bouts remaining: {}\".format(count))\n",
    "print(\"   Number of bouts lost:      {}\".format(total_count-count))\n",
    "print(\"   Percentage of bouts lost:  {:.2%}\".format((total_count-count)/total_count))\n",
    "print(\"\")\n",
    "\n",
    "count = indices_of_bouts_both_multi.shape[0]\n",
    "total_count= bout_df.shape[0]\n",
    "print(\"When restricted to both fencers with multiple events:\")\n",
    "print(\"   Number of bouts remaining: {}\".format(count))\n",
    "print(\"   Number of bouts lost:      {}\".format(total_count-count))\n",
    "print(\"   Percentage of bouts lost:  {:.2%}\".format((total_count-count)/total_count))\n",
    "\n"
   ]
  },
  {
   "cell_type": "code",
   "execution_count": 180,
   "id": "bdaca369-7682-47f6-8b52-1bb976eabe40",
   "metadata": {},
   "outputs": [
    {
     "data": {
      "text/html": [
       "<div>\n",
       "<style scoped>\n",
       "    .dataframe tbody tr th:only-of-type {\n",
       "        vertical-align: middle;\n",
       "    }\n",
       "\n",
       "    .dataframe tbody tr th {\n",
       "        vertical-align: top;\n",
       "    }\n",
       "\n",
       "    .dataframe thead th {\n",
       "        text-align: right;\n",
       "    }\n",
       "</style>\n",
       "<table border=\"1\" class=\"dataframe\">\n",
       "  <thead>\n",
       "    <tr style=\"text-align: right;\">\n",
       "      <th></th>\n",
       "      <th>fencer_ID</th>\n",
       "      <th>opp_ID</th>\n",
       "      <th>fencer_age</th>\n",
       "      <th>opp_age</th>\n",
       "      <th>fencer_score</th>\n",
       "      <th>opp_score</th>\n",
       "      <th>winner_ID</th>\n",
       "      <th>fencer_curr_pts</th>\n",
       "      <th>opp_curr_pts</th>\n",
       "      <th>tournament_ID</th>\n",
       "      <th>pool_ID</th>\n",
       "      <th>upset</th>\n",
       "      <th>date</th>\n",
       "    </tr>\n",
       "  </thead>\n",
       "  <tbody>\n",
       "    <tr>\n",
       "      <th>0</th>\n",
       "      <td>36796</td>\n",
       "      <td>19574</td>\n",
       "      <td>23</td>\n",
       "      <td>28</td>\n",
       "      <td>5</td>\n",
       "      <td>1</td>\n",
       "      <td>36796</td>\n",
       "      <td>12.5</td>\n",
       "      <td>7.50</td>\n",
       "      <td>2021-121</td>\n",
       "      <td>1</td>\n",
       "      <td>False</td>\n",
       "      <td>2021-03-26</td>\n",
       "    </tr>\n",
       "    <tr>\n",
       "      <th>1</th>\n",
       "      <td>36796</td>\n",
       "      <td>42147</td>\n",
       "      <td>23</td>\n",
       "      <td>19</td>\n",
       "      <td>5</td>\n",
       "      <td>2</td>\n",
       "      <td>36796</td>\n",
       "      <td>12.5</td>\n",
       "      <td>0.75</td>\n",
       "      <td>2021-121</td>\n",
       "      <td>1</td>\n",
       "      <td>False</td>\n",
       "      <td>2021-03-26</td>\n",
       "    </tr>\n",
       "    <tr>\n",
       "      <th>2</th>\n",
       "      <td>36796</td>\n",
       "      <td>49116</td>\n",
       "      <td>23</td>\n",
       "      <td>21</td>\n",
       "      <td>5</td>\n",
       "      <td>2</td>\n",
       "      <td>36796</td>\n",
       "      <td>12.5</td>\n",
       "      <td>22.25</td>\n",
       "      <td>2021-121</td>\n",
       "      <td>1</td>\n",
       "      <td>True</td>\n",
       "      <td>2021-03-26</td>\n",
       "    </tr>\n",
       "    <tr>\n",
       "      <th>3</th>\n",
       "      <td>36796</td>\n",
       "      <td>39631</td>\n",
       "      <td>23</td>\n",
       "      <td>18</td>\n",
       "      <td>5</td>\n",
       "      <td>4</td>\n",
       "      <td>36796</td>\n",
       "      <td>12.5</td>\n",
       "      <td>23.00</td>\n",
       "      <td>2021-121</td>\n",
       "      <td>1</td>\n",
       "      <td>True</td>\n",
       "      <td>2021-03-26</td>\n",
       "    </tr>\n",
       "    <tr>\n",
       "      <th>4</th>\n",
       "      <td>36796</td>\n",
       "      <td>23447</td>\n",
       "      <td>23</td>\n",
       "      <td>27</td>\n",
       "      <td>4</td>\n",
       "      <td>5</td>\n",
       "      <td>23447</td>\n",
       "      <td>12.5</td>\n",
       "      <td>79.00</td>\n",
       "      <td>2021-121</td>\n",
       "      <td>1</td>\n",
       "      <td>False</td>\n",
       "      <td>2021-03-26</td>\n",
       "    </tr>\n",
       "  </tbody>\n",
       "</table>\n",
       "</div>"
      ],
      "text/plain": [
       "   fencer_ID  opp_ID  fencer_age  opp_age  fencer_score  opp_score  winner_ID  \\\n",
       "0      36796   19574          23       28             5          1      36796   \n",
       "1      36796   42147          23       19             5          2      36796   \n",
       "2      36796   49116          23       21             5          2      36796   \n",
       "3      36796   39631          23       18             5          4      36796   \n",
       "4      36796   23447          23       27             4          5      23447   \n",
       "\n",
       "   fencer_curr_pts  opp_curr_pts tournament_ID  pool_ID  upset        date  \n",
       "0             12.5          7.50      2021-121        1  False  2021-03-26  \n",
       "1             12.5          0.75      2021-121        1  False  2021-03-26  \n",
       "2             12.5         22.25      2021-121        1   True  2021-03-26  \n",
       "3             12.5         23.00      2021-121        1   True  2021-03-26  \n",
       "4             12.5         79.00      2021-121        1  False  2021-03-26  "
      ]
     },
     "execution_count": 180,
     "metadata": {},
     "output_type": "execute_result"
    }
   ],
   "source": [
    "bout_df.loc[indices_of_bouts_both_multi, :].head()"
   ]
  },
  {
   "cell_type": "markdown",
   "id": "febcb5fa-048b-44b0-ad63-25b497296232",
   "metadata": {},
   "source": [
    "#### Conclusions\n",
    "\n",
    "About 30% of fencers appear in only a single event, which corresponds to about 5-7 bouts for that fencer.\n",
    "\n",
    "When restricted to at least one fencer with multiple events:\n",
    "   * Number of bouts remaining: 48993\n",
    "   * Number of bouts lost:      138\n",
    "   * Percentage of bouts lost:  0.28%\n",
    "\n",
    "When restricted to both fencers with multiple events:\n",
    "   * Number of bouts remaining: 45693\n",
    "   * Number of bouts lost:      3438\n",
    "   * Percentage of bouts lost:  7.00%"
   ]
  },
  {
   "cell_type": "markdown",
   "id": "348d87e6",
   "metadata": {},
   "source": [
    "# Review tournament-bout data\n",
    "\n",
    "1. Review how many tournaments are contributing bout data. \n",
    "2. Verify that tournaments with missing data do not appear in the bout dataframe. \n",
    "3. Look for trends in where tournament data is missing (by date? location? event type?)\n",
    "4. Consider wheter to remove tournaments without pools data (probably will, but good to know information about missing data)"
   ]
  },
  {
   "cell_type": "code",
   "execution_count": 31,
   "id": "8dc77d46",
   "metadata": {
    "scrolled": true
   },
   "outputs": [
    {
     "data": {
      "text/html": [
       "<div>\n",
       "<style scoped>\n",
       "    .dataframe tbody tr th:only-of-type {\n",
       "        vertical-align: middle;\n",
       "    }\n",
       "\n",
       "    .dataframe tbody tr th {\n",
       "        vertical-align: top;\n",
       "    }\n",
       "\n",
       "    .dataframe thead th {\n",
       "        text-align: right;\n",
       "    }\n",
       "</style>\n",
       "<table border=\"1\" class=\"dataframe\">\n",
       "  <thead>\n",
       "    <tr style=\"text-align: right;\">\n",
       "      <th></th>\n",
       "      <th>competition_ID</th>\n",
       "      <th>season</th>\n",
       "      <th>name</th>\n",
       "      <th>category</th>\n",
       "      <th>country</th>\n",
       "      <th>start_date</th>\n",
       "      <th>end_date</th>\n",
       "      <th>weapon</th>\n",
       "      <th>gender</th>\n",
       "      <th>timezone</th>\n",
       "      <th>url</th>\n",
       "      <th>unique_ID</th>\n",
       "      <th>missing_results_flag</th>\n",
       "    </tr>\n",
       "  </thead>\n",
       "  <tbody>\n",
       "    <tr>\n",
       "      <th>0</th>\n",
       "      <td>121</td>\n",
       "      <td>2021</td>\n",
       "      <td>Grand Prix</td>\n",
       "      <td>Senior</td>\n",
       "      <td>QATAR</td>\n",
       "      <td>2021-03-26</td>\n",
       "      <td>2021-03-28</td>\n",
       "      <td>Foil</td>\n",
       "      <td>Womens</td>\n",
       "      <td>Asia/Qatar</td>\n",
       "      <td>https://fie.org/competitions/2021/121</td>\n",
       "      <td>2021-121</td>\n",
       "      <td>NaN</td>\n",
       "    </tr>\n",
       "    <tr>\n",
       "      <th>1</th>\n",
       "      <td>800</td>\n",
       "      <td>2011</td>\n",
       "      <td>Championnats Panaméricains</td>\n",
       "      <td>Senior</td>\n",
       "      <td>USA</td>\n",
       "      <td>2011-07-04</td>\n",
       "      <td>2011-07-09</td>\n",
       "      <td>Foil</td>\n",
       "      <td>Womens</td>\n",
       "      <td>America/Los_Angeles</td>\n",
       "      <td>https://fie.org/competitions/2011/800</td>\n",
       "      <td>2011-800</td>\n",
       "      <td>no pools data</td>\n",
       "    </tr>\n",
       "    <tr>\n",
       "      <th>2</th>\n",
       "      <td>225</td>\n",
       "      <td>1958</td>\n",
       "      <td>Championnats du Monde</td>\n",
       "      <td>Junior</td>\n",
       "      <td>ROMANIA</td>\n",
       "      <td>1958-04-04</td>\n",
       "      <td>1958-04-07</td>\n",
       "      <td>Foil</td>\n",
       "      <td>Womens</td>\n",
       "      <td>Europe/Bucharest</td>\n",
       "      <td>https://fie.org/competitions/1958/225</td>\n",
       "      <td>1958-225</td>\n",
       "      <td>no pools data</td>\n",
       "    </tr>\n",
       "    <tr>\n",
       "      <th>3</th>\n",
       "      <td>41</td>\n",
       "      <td>2017</td>\n",
       "      <td>Tournoi international</td>\n",
       "      <td>Junior</td>\n",
       "      <td>GERMANY</td>\n",
       "      <td>2016-10-28</td>\n",
       "      <td>2016-10-28</td>\n",
       "      <td>Foil</td>\n",
       "      <td>Womens</td>\n",
       "      <td>Europe/Berlin</td>\n",
       "      <td>https://fie.org/competitions/2017/41</td>\n",
       "      <td>2017-41</td>\n",
       "      <td>NaN</td>\n",
       "    </tr>\n",
       "    <tr>\n",
       "      <th>4</th>\n",
       "      <td>800</td>\n",
       "      <td>2015</td>\n",
       "      <td>Championnats Panaméricains</td>\n",
       "      <td>Senior</td>\n",
       "      <td>CHILE</td>\n",
       "      <td>2015-04-17</td>\n",
       "      <td>2015-04-26</td>\n",
       "      <td>Foil</td>\n",
       "      <td>Womens</td>\n",
       "      <td>America/Santiago</td>\n",
       "      <td>https://fie.org/competitions/2015/800</td>\n",
       "      <td>2015-800</td>\n",
       "      <td>NaN</td>\n",
       "    </tr>\n",
       "  </tbody>\n",
       "</table>\n",
       "</div>"
      ],
      "text/plain": [
       "   competition_ID  season                        name category  country  \\\n",
       "0             121    2021                  Grand Prix   Senior    QATAR   \n",
       "1             800    2011  Championnats Panaméricains   Senior      USA   \n",
       "2             225    1958       Championnats du Monde   Junior  ROMANIA   \n",
       "3              41    2017       Tournoi international   Junior  GERMANY   \n",
       "4             800    2015  Championnats Panaméricains   Senior    CHILE   \n",
       "\n",
       "   start_date    end_date weapon  gender             timezone  \\\n",
       "0  2021-03-26  2021-03-28   Foil  Womens           Asia/Qatar   \n",
       "1  2011-07-04  2011-07-09   Foil  Womens  America/Los_Angeles   \n",
       "2  1958-04-04  1958-04-07   Foil  Womens     Europe/Bucharest   \n",
       "3  2016-10-28  2016-10-28   Foil  Womens        Europe/Berlin   \n",
       "4  2015-04-17  2015-04-26   Foil  Womens     America/Santiago   \n",
       "\n",
       "                                     url unique_ID missing_results_flag  \n",
       "0  https://fie.org/competitions/2021/121  2021-121                  NaN  \n",
       "1  https://fie.org/competitions/2011/800  2011-800        no pools data  \n",
       "2  https://fie.org/competitions/1958/225  1958-225        no pools data  \n",
       "3   https://fie.org/competitions/2017/41   2017-41                  NaN  \n",
       "4  https://fie.org/competitions/2015/800  2015-800                  NaN  "
      ]
     },
     "execution_count": 31,
     "metadata": {},
     "output_type": "execute_result"
    }
   ],
   "source": [
    "# recall tournament_df structure \n",
    "tournament_df.head()"
   ]
  },
  {
   "cell_type": "markdown",
   "id": "d5b0a3fe",
   "metadata": {
    "tags": [],
    "toc-hr-collapsed": true
   },
   "source": [
    "### Review how many tournaments are contributing bout data"
   ]
  },
  {
   "cell_type": "code",
   "execution_count": 32,
   "id": "1423a8b6",
   "metadata": {},
   "outputs": [
    {
     "name": "stdout",
     "output_type": "stream",
     "text": [
      "Number of tournaments with missing data flag: 612\n",
      "Number of tournaments with bout data:         218\n",
      "Total number of tournaments in dataframe:     830\n"
     ]
    }
   ],
   "source": [
    "# Review how many tournaments are contributing bout data.\n",
    "tournament_IDs_without_data = list(tournament_df[tournament_df['missing_results_flag'].notna()]['unique_ID'])\n",
    "print(\"Number of tournaments with missing data flag: {}\".format(len(tournament_IDs_without_data)))\n",
    "print(\"Number of tournaments with bout data:         {}\".format(len(list(tournament_df[tournament_df['missing_results_flag'].isna()]['unique_ID']))))\n",
    "print(\"Total number of tournaments in dataframe:     {}\".format(tournament_df.shape[0]))"
   ]
  },
  {
   "cell_type": "markdown",
   "id": "565bb596",
   "metadata": {
    "tags": []
   },
   "source": [
    " Verify that tournaments with missing data do not appear in the bout dataframe. \n",
    "\n",
    "Verification Below. Looks good! "
   ]
  },
  {
   "cell_type": "code",
   "execution_count": 33,
   "id": "b7f66cbb",
   "metadata": {},
   "outputs": [
    {
     "name": "stdout",
     "output_type": "stream",
     "text": [
      "Verified that all tournaments with missing data flag do not have bout data in bout_df\n"
     ]
    }
   ],
   "source": [
    "# Verify that tournaments with missing data do not appear in the bout dataframe.\n",
    "for unique_id in tournament_IDs_without_data:\n",
    "    assert bout_df[bout_df['tournament_ID'] == unique_id].shape[0] == 0,\\\n",
    "        \"Warning: Tournament ({}) with missing data flag ({}) *DOES* have bout data.\".format(\n",
    "            unique_id, tournament_df.loc[tournament_df['unique_ID']==unique_id].iloc[0]['missing_results_flag'])\n",
    "print(\"Verified that all tournaments with missing data flag do not have bout data in bout_df\")"
   ]
  },
  {
   "cell_type": "markdown",
   "id": "f034d7fd",
   "metadata": {},
   "source": [
    "#### Conclusions\n",
    "\n",
    "Only about a quarter (1/4) of tournaments have pools data. "
   ]
  },
  {
   "cell_type": "markdown",
   "id": "e9c55005",
   "metadata": {
    "toc-hr-collapsed": true
   },
   "source": [
    "### Examine statistics of missing tournaments "
   ]
  },
  {
   "cell_type": "code",
   "execution_count": 34,
   "id": "64893941",
   "metadata": {},
   "outputs": [],
   "source": [
    "def compare_missing_tournament_distribution_by_col(column_name):\n",
    "    missing_tournaments = tournament_df[tournament_df['missing_results_flag'].notna()]\n",
    "    results_tournaments = tournament_df[tournament_df['missing_results_flag'].isna()]\n",
    "\n",
    "    index = list(set(results_tournaments.groupby(column_name).count().index).union(set(missing_tournaments.groupby(column_name).count().index)))\n",
    "    tournament_distribution = pd.DataFrame(columns=['No Results','Results'], index= index)\n",
    "    tournament_distribution['No Results'] = missing_tournaments.groupby(column_name).count()['competition_ID']\n",
    "    tournament_distribution['Results'] = results_tournaments.groupby(column_name).count()['competition_ID']\n",
    "\n",
    "    tournament_distribution_percentage = pd.DataFrame(columns=['No Results','Results'])\n",
    "    tournament_distribution_percentage['No Results'] = 100*missing_tournaments.groupby(column_name).count()['competition_ID']/missing_tournaments.shape[0]\n",
    "    tournament_distribution_percentage['Results'] = 100*results_tournaments.groupby(column_name).count()['competition_ID']/results_tournaments.shape[0]\n",
    "\n",
    "    return tournament_distribution, tournament_distribution_percentage"
   ]
  },
  {
   "cell_type": "code",
   "execution_count": 35,
   "id": "1ef6d9e2",
   "metadata": {},
   "outputs": [
    {
     "data": {
      "text/html": [
       "<div>\n",
       "<style scoped>\n",
       "    .dataframe tbody tr th:only-of-type {\n",
       "        vertical-align: middle;\n",
       "    }\n",
       "\n",
       "    .dataframe tbody tr th {\n",
       "        vertical-align: top;\n",
       "    }\n",
       "\n",
       "    .dataframe thead th {\n",
       "        text-align: right;\n",
       "    }\n",
       "</style>\n",
       "<table border=\"1\" class=\"dataframe\">\n",
       "  <thead>\n",
       "    <tr style=\"text-align: right;\">\n",
       "      <th></th>\n",
       "      <th>No Results</th>\n",
       "      <th>Results</th>\n",
       "    </tr>\n",
       "  </thead>\n",
       "  <tbody>\n",
       "    <tr>\n",
       "      <th>1956</th>\n",
       "      <td>1.0</td>\n",
       "      <td>0.0</td>\n",
       "    </tr>\n",
       "    <tr>\n",
       "      <th>1958</th>\n",
       "      <td>2.0</td>\n",
       "      <td>0.0</td>\n",
       "    </tr>\n",
       "    <tr>\n",
       "      <th>1959</th>\n",
       "      <td>2.0</td>\n",
       "      <td>0.0</td>\n",
       "    </tr>\n",
       "    <tr>\n",
       "      <th>1960</th>\n",
       "      <td>2.0</td>\n",
       "      <td>0.0</td>\n",
       "    </tr>\n",
       "    <tr>\n",
       "      <th>1961</th>\n",
       "      <td>1.0</td>\n",
       "      <td>0.0</td>\n",
       "    </tr>\n",
       "    <tr>\n",
       "      <th>...</th>\n",
       "      <td>...</td>\n",
       "      <td>...</td>\n",
       "    </tr>\n",
       "    <tr>\n",
       "      <th>2017</th>\n",
       "      <td>5.0</td>\n",
       "      <td>37.0</td>\n",
       "    </tr>\n",
       "    <tr>\n",
       "      <th>2018</th>\n",
       "      <td>8.0</td>\n",
       "      <td>36.0</td>\n",
       "    </tr>\n",
       "    <tr>\n",
       "      <th>2019</th>\n",
       "      <td>4.0</td>\n",
       "      <td>38.0</td>\n",
       "    </tr>\n",
       "    <tr>\n",
       "      <th>2020</th>\n",
       "      <td>6.0</td>\n",
       "      <td>25.0</td>\n",
       "    </tr>\n",
       "    <tr>\n",
       "      <th>2021</th>\n",
       "      <td>0.0</td>\n",
       "      <td>7.0</td>\n",
       "    </tr>\n",
       "  </tbody>\n",
       "</table>\n",
       "<p>65 rows × 2 columns</p>\n",
       "</div>"
      ],
      "text/plain": [
       "      No Results  Results\n",
       "1956         1.0      0.0\n",
       "1958         2.0      0.0\n",
       "1959         2.0      0.0\n",
       "1960         2.0      0.0\n",
       "1961         1.0      0.0\n",
       "...          ...      ...\n",
       "2017         5.0     37.0\n",
       "2018         8.0     36.0\n",
       "2019         4.0     38.0\n",
       "2020         6.0     25.0\n",
       "2021         0.0      7.0\n",
       "\n",
       "[65 rows x 2 columns]"
      ]
     },
     "execution_count": 35,
     "metadata": {},
     "output_type": "execute_result"
    }
   ],
   "source": [
    "# compare distribution of category \n",
    "tournament_seasons, tournament_season_percent = compare_missing_tournament_distribution_by_col('season')\n",
    "\n",
    "tournament_seasons.fillna(0,inplace=True)\n",
    "tournament_seasons.astype(int)\n",
    "# print(tournament_season_percent.applymap(\"{0:.1f}%\".format))\n",
    "tournament_seasons\n"
   ]
  },
  {
   "cell_type": "code",
   "execution_count": 36,
   "id": "510245bb",
   "metadata": {
    "scrolled": true
   },
   "outputs": [
    {
     "data": {
      "image/png": "[encoded data removed]",
      "text/plain": [
       "<Figure size 1440x360 with 1 Axes>"
      ]
     },
     "metadata": {
      "needs_background": "light"
     },
     "output_type": "display_data"
    }
   ],
   "source": [
    "# plot counts of missing/not missing tournaments over time\n",
    "tournament_seasons.plot(y=[\"No Results\", \"Results\"], kind=\"bar\",figsize=(20,5))\n",
    "plt.show()\n",
    "# three different types of tournament results distributions (see description in conclusion 2.)"
   ]
  },
  {
   "cell_type": "code",
   "execution_count": 37,
   "id": "c1bde7e1",
   "metadata": {},
   "outputs": [],
   "source": [
    "def compare_missing_tournament_distribution_by_col_after_2013(column_name):\n",
    "    missing_tournaments = tournament_df[(tournament_df['missing_results_flag'].notna()) & (tournament_df['season'] > 2013)]\n",
    "    results_tournaments = tournament_df[(tournament_df['missing_results_flag'].isna())  & (tournament_df['season'] > 2013)]\n",
    "    index = list(set(results_tournaments.groupby(column_name).count().index).union(set(missing_tournaments.groupby(column_name).count().index)))\n",
    "    \n",
    "    tournament_distribution = pd.DataFrame(columns=['No Results','Results'], index=index)\n",
    "    tournament_distribution['No Results'] = missing_tournaments.groupby(column_name).count()['competition_ID']\n",
    "    tournament_distribution['Results']    = results_tournaments.groupby(column_name).count()['competition_ID']\n",
    "\n",
    "    tournament_distribution_percentage = pd.DataFrame(columns=['No Results','Results'])\n",
    "    tournament_distribution_percentage['No Results'] = 100*missing_tournaments.groupby(column_name).count()['competition_ID']/missing_tournaments.shape[0]\n",
    "    tournament_distribution_percentage['Results']    = 100*results_tournaments.groupby(column_name).count()['competition_ID']/results_tournaments.shape[0]\n",
    "\n",
    "    return tournament_distribution, tournament_distribution_percentage"
   ]
  },
  {
   "cell_type": "code",
   "execution_count": 38,
   "id": "bfaf217d",
   "metadata": {},
   "outputs": [
    {
     "name": "stdout",
     "output_type": "stream",
     "text": [
      "          No Results  Results\n",
      "Veterans           3       13\n",
      "Cadet             31       12\n",
      "Junior            19       78\n",
      "Senior            23      115\n",
      "         No Results Results\n",
      "category                   \n",
      "Cadet         40.8%    5.5%\n",
      "Junior        25.0%   35.8%\n",
      "Senior        30.3%   52.8%\n",
      "Veterans       3.9%    6.0%\n"
     ]
    }
   ],
   "source": [
    "# compare distribution of category \n",
    "tournament_categories, tournament_categories_percents = compare_missing_tournament_distribution_by_col_after_2013('category')\n",
    "\n",
    "print(tournament_categories)\n",
    "print(tournament_categories_percents.applymap(\"{0:.1f}%\".format))\n",
    "# Missing lots more cadet by percentage and slightly less than vet by percentage "
   ]
  },
  {
   "cell_type": "code",
   "execution_count": 39,
   "id": "804ffa68",
   "metadata": {},
   "outputs": [
    {
     "data": {
      "image/png": "[encoded data removed]",
      "text/plain": [
       "<Figure size 1440x360 with 1 Axes>"
      ]
     },
     "metadata": {
      "needs_background": "light"
     },
     "output_type": "display_data"
    }
   ],
   "source": [
    "# plot counts of missing/not missing tournaments by age group\n",
    "tournament_categories_percents.plot(y=[\"No Results\", \"Results\"], kind=\"bar\",figsize=(20,5))\n",
    "plt.show()"
   ]
  },
  {
   "cell_type": "code",
   "execution_count": 40,
   "id": "789e1fa6",
   "metadata": {},
   "outputs": [
    {
     "name": "stdout",
     "output_type": "stream",
     "text": [
      "Number of countries hosting tournaments after 2013: 58\n"
     ]
    },
    {
     "data": {
      "text/html": [
       "<div>\n",
       "<style scoped>\n",
       "    .dataframe tbody tr th:only-of-type {\n",
       "        vertical-align: middle;\n",
       "    }\n",
       "\n",
       "    .dataframe tbody tr th {\n",
       "        vertical-align: top;\n",
       "    }\n",
       "\n",
       "    .dataframe thead th {\n",
       "        text-align: right;\n",
       "    }\n",
       "</style>\n",
       "<table border=\"1\" class=\"dataframe\">\n",
       "  <thead>\n",
       "    <tr style=\"text-align: right;\">\n",
       "      <th></th>\n",
       "      <th>No Results</th>\n",
       "      <th>Results</th>\n",
       "      <th>Percent w/ Results</th>\n",
       "    </tr>\n",
       "  </thead>\n",
       "  <tbody>\n",
       "    <tr>\n",
       "      <th>GUATEMALA</th>\n",
       "      <td>2</td>\n",
       "      <td>6</td>\n",
       "      <td>75.0</td>\n",
       "    </tr>\n",
       "    <tr>\n",
       "      <th>AZERBAIJAN</th>\n",
       "      <td>0</td>\n",
       "      <td>1</td>\n",
       "      <td>100.0</td>\n",
       "    </tr>\n",
       "    <tr>\n",
       "      <th>CANADA</th>\n",
       "      <td>1</td>\n",
       "      <td>4</td>\n",
       "      <td>80.0</td>\n",
       "    </tr>\n",
       "    <tr>\n",
       "      <th>CHINESE TAIPEI</th>\n",
       "      <td>0</td>\n",
       "      <td>1</td>\n",
       "      <td>100.0</td>\n",
       "    </tr>\n",
       "    <tr>\n",
       "      <th>ROMANIA</th>\n",
       "      <td>0</td>\n",
       "      <td>8</td>\n",
       "      <td>100.0</td>\n",
       "    </tr>\n",
       "  </tbody>\n",
       "</table>\n",
       "</div>"
      ],
      "text/plain": [
       "                No Results  Results  Percent w/ Results\n",
       "GUATEMALA                2        6                75.0\n",
       "AZERBAIJAN               0        1               100.0\n",
       "CANADA                   1        4                80.0\n",
       "CHINESE TAIPEI           0        1               100.0\n",
       "ROMANIA                  0        8               100.0"
      ]
     },
     "execution_count": 40,
     "metadata": {},
     "output_type": "execute_result"
    }
   ],
   "source": [
    "# compare results reporting by country \n",
    "tournament_countries, tournament_countries_percent = compare_missing_tournament_distribution_by_col_after_2013('country')\n",
    "tournament_countries.fillna(0, inplace=True)\n",
    "tournament_countries = tournament_countries.astype(int)\n",
    "print(\"Number of countries hosting tournaments after 2013: {}\".format(tournament_countries.shape[0]))\n",
    "tournament_countries['Percent w/ Results'] = 100* tournament_countries['Results'] / (tournament_countries['No Results']+tournament_countries['Results'])\n",
    "tournament_countries.head()"
   ]
  },
  {
   "cell_type": "code",
   "execution_count": 41,
   "id": "bb2900a3",
   "metadata": {},
   "outputs": [
    {
     "data": {
      "image/png": "[encoded data removed]",
      "text/plain": [
       "<Figure size 1440x360 with 1 Axes>"
      ]
     },
     "metadata": {
      "needs_background": "light"
     },
     "output_type": "display_data"
    },
    {
     "data": {
      "image/png": "[encoded data removed]",
      "text/plain": [
       "<Figure size 1440x360 with 1 Axes>"
      ]
     },
     "metadata": {
      "needs_background": "light"
     },
     "output_type": "display_data"
    }
   ],
   "source": [
    "tournament_countries.sort_values(by='Results', inplace=True)\n",
    "tournament_countries.plot(y=[\"No Results\", \"Results\"], kind=\"bar\",figsize=(20,5))\n",
    "tournament_countries.sort_values(by='Percent w/ Results', inplace=True)\n",
    "tournament_countries.plot(y=[\"Percent w/ Results\"], kind=\"bar\",figsize=(20,5))\n",
    "plt.show()"
   ]
  },
  {
   "cell_type": "code",
   "execution_count": 42,
   "id": "2d5e5492",
   "metadata": {},
   "outputs": [],
   "source": [
    "# should extract only tournaments post 2013 since all prior are missing (likely for technology reasons)"
   ]
  },
  {
   "cell_type": "markdown",
   "id": "413840d3",
   "metadata": {},
   "source": [
    "#### Conclusions \n",
    "\n",
    "1. Two 'eras' of reporting for tournaments?\n",
    "    * pre 2002 - very few tournaments listed on the FIE website, non with results data\n",
    "    * 2002-2013 - lots of tournaments listed, but none with results for pools \n",
    "    * post 2013 - most tournaments have pools data recorded, some still missing \n",
    "2. In the post 2013 era, many cadet events are missing results (i.e. age group) \n",
    "3. By Country. Some countries have high reporting rates, others do not (from 0%-100%). "
   ]
  },
  {
   "cell_type": "markdown",
   "id": "670ae85b",
   "metadata": {
    "toc-hr-collapsed": true
   },
   "source": [
    "### COVID Era Events\n",
    "\n",
    "Look at 2020 and effect of COVID on tournaments? Did they still happen?"
   ]
  },
  {
   "cell_type": "code",
   "execution_count": 43,
   "id": "58d26842-e62d-4933-9457-db832e412cb3",
   "metadata": {},
   "outputs": [
    {
     "data": {
      "text/plain": [
       "0     2021-03-26\n",
       "1     2011-07-04\n",
       "2     1958-04-04\n",
       "3     2016-10-28\n",
       "4     2015-04-17\n",
       "         ...    \n",
       "825   2012-03-25\n",
       "826   2004-03-20\n",
       "827   2004-04-19\n",
       "828   2010-05-03\n",
       "829   2006-11-10\n",
       "Name: start_date, Length: 830, dtype: datetime64[ns]"
      ]
     },
     "execution_count": 43,
     "metadata": {},
     "output_type": "execute_result"
    }
   ],
   "source": [
    "pd.to_datetime(tournament_df['start_date'])"
   ]
  },
  {
   "cell_type": "code",
   "execution_count": 44,
   "id": "c402c9fb-44e5-4d58-bda2-efebea35fbef",
   "metadata": {},
   "outputs": [
    {
     "data": {
      "text/plain": [
       "Timestamp('2020-01-01 00:00:00')"
      ]
     },
     "execution_count": 44,
     "metadata": {},
     "output_type": "execute_result"
    }
   ],
   "source": [
    "pd.to_datetime('2020-01-01')"
   ]
  },
  {
   "cell_type": "code",
   "execution_count": 45,
   "id": "d42fa08b-9341-46a7-8b32-755c669fc031",
   "metadata": {},
   "outputs": [
    {
     "data": {
      "text/html": [
       "<div>\n",
       "<style scoped>\n",
       "    .dataframe tbody tr th:only-of-type {\n",
       "        vertical-align: middle;\n",
       "    }\n",
       "\n",
       "    .dataframe tbody tr th {\n",
       "        vertical-align: top;\n",
       "    }\n",
       "\n",
       "    .dataframe thead th {\n",
       "        text-align: right;\n",
       "    }\n",
       "</style>\n",
       "<table border=\"1\" class=\"dataframe\">\n",
       "  <thead>\n",
       "    <tr style=\"text-align: right;\">\n",
       "      <th></th>\n",
       "      <th>competition_ID</th>\n",
       "      <th>season</th>\n",
       "      <th>name</th>\n",
       "      <th>category</th>\n",
       "      <th>country</th>\n",
       "      <th>start_date</th>\n",
       "      <th>end_date</th>\n",
       "      <th>weapon</th>\n",
       "      <th>gender</th>\n",
       "      <th>timezone</th>\n",
       "      <th>url</th>\n",
       "      <th>unique_ID</th>\n",
       "      <th>missing_results_flag</th>\n",
       "    </tr>\n",
       "  </thead>\n",
       "  <tbody>\n",
       "    <tr>\n",
       "      <th>267</th>\n",
       "      <td>37</td>\n",
       "      <td>2020</td>\n",
       "      <td>Coupe du Monde</td>\n",
       "      <td>Junior</td>\n",
       "      <td>ITALY</td>\n",
       "      <td>2020-01-05</td>\n",
       "      <td>2020-01-05</td>\n",
       "      <td>Foil</td>\n",
       "      <td>Womens</td>\n",
       "      <td>Europe/Rome</td>\n",
       "      <td>https://fie.org/competitions/2020/37</td>\n",
       "      <td>2020-37</td>\n",
       "      <td>NaN</td>\n",
       "    </tr>\n",
       "    <tr>\n",
       "      <th>480</th>\n",
       "      <td>127</td>\n",
       "      <td>2020</td>\n",
       "      <td>Coupe du Monde</td>\n",
       "      <td>Senior</td>\n",
       "      <td>POLAND</td>\n",
       "      <td>2020-01-10</td>\n",
       "      <td>2020-01-11</td>\n",
       "      <td>Foil</td>\n",
       "      <td>Womens</td>\n",
       "      <td>Europe/Warsaw</td>\n",
       "      <td>https://fie.org/competitions/2020/127</td>\n",
       "      <td>2020-127</td>\n",
       "      <td>NaN</td>\n",
       "    </tr>\n",
       "    <tr>\n",
       "      <th>277</th>\n",
       "      <td>444</td>\n",
       "      <td>2020</td>\n",
       "      <td>Coupe du Monde</td>\n",
       "      <td>Junior</td>\n",
       "      <td>CROATIA</td>\n",
       "      <td>2020-01-18</td>\n",
       "      <td>2020-01-18</td>\n",
       "      <td>Foil</td>\n",
       "      <td>Womens</td>\n",
       "      <td>Europe/Zagreb</td>\n",
       "      <td>https://fie.org/competitions/2020/444</td>\n",
       "      <td>2020-444</td>\n",
       "      <td>NaN</td>\n",
       "    </tr>\n",
       "    <tr>\n",
       "      <th>479</th>\n",
       "      <td>933</td>\n",
       "      <td>2020</td>\n",
       "      <td>Сhampionnats de la Méditerranée</td>\n",
       "      <td>Cadet</td>\n",
       "      <td>TUNISIA</td>\n",
       "      <td>2020-01-24</td>\n",
       "      <td>2020-01-24</td>\n",
       "      <td>Foil</td>\n",
       "      <td>Womens</td>\n",
       "      <td>Africa/Tunis</td>\n",
       "      <td>https://fie.org/competitions/2020/933</td>\n",
       "      <td>2020-933</td>\n",
       "      <td>no pools data</td>\n",
       "    </tr>\n",
       "    <tr>\n",
       "      <th>275</th>\n",
       "      <td>42</td>\n",
       "      <td>2020</td>\n",
       "      <td>Coupe du Monde</td>\n",
       "      <td>Junior</td>\n",
       "      <td>USA</td>\n",
       "      <td>2020-01-25</td>\n",
       "      <td>2020-01-25</td>\n",
       "      <td>Foil</td>\n",
       "      <td>Womens</td>\n",
       "      <td>America/Phoenix</td>\n",
       "      <td>https://fie.org/competitions/2020/42</td>\n",
       "      <td>2020-42</td>\n",
       "      <td>NaN</td>\n",
       "    </tr>\n",
       "  </tbody>\n",
       "</table>\n",
       "</div>"
      ],
      "text/plain": [
       "     competition_ID  season                             name category  \\\n",
       "267              37    2020                   Coupe du Monde   Junior   \n",
       "480             127    2020                   Coupe du Monde   Senior   \n",
       "277             444    2020                   Coupe du Monde   Junior   \n",
       "479             933    2020  Сhampionnats de la Méditerranée    Cadet   \n",
       "275              42    2020                   Coupe du Monde   Junior   \n",
       "\n",
       "     country  start_date    end_date weapon  gender         timezone  \\\n",
       "267    ITALY  2020-01-05  2020-01-05   Foil  Womens      Europe/Rome   \n",
       "480   POLAND  2020-01-10  2020-01-11   Foil  Womens    Europe/Warsaw   \n",
       "277  CROATIA  2020-01-18  2020-01-18   Foil  Womens    Europe/Zagreb   \n",
       "479  TUNISIA  2020-01-24  2020-01-24   Foil  Womens     Africa/Tunis   \n",
       "275      USA  2020-01-25  2020-01-25   Foil  Womens  America/Phoenix   \n",
       "\n",
       "                                       url unique_ID missing_results_flag  \n",
       "267   https://fie.org/competitions/2020/37   2020-37                  NaN  \n",
       "480  https://fie.org/competitions/2020/127  2020-127                  NaN  \n",
       "277  https://fie.org/competitions/2020/444  2020-444                  NaN  \n",
       "479  https://fie.org/competitions/2020/933  2020-933        no pools data  \n",
       "275   https://fie.org/competitions/2020/42   2020-42                  NaN  "
      ]
     },
     "execution_count": 45,
     "metadata": {},
     "output_type": "execute_result"
    }
   ],
   "source": [
    "# get tournaments with dates in or after Jan 2020\n",
    "covid_events = tournament_df[pd.to_datetime(tournament_df['start_date']) > pd.to_datetime('2020-01-01')].sort_values(by='start_date')\n",
    "covid_events.head()"
   ]
  },
  {
   "cell_type": "code",
   "execution_count": 46,
   "id": "72d07769-839b-4534-a90e-31dddbd127b7",
   "metadata": {},
   "outputs": [
    {
     "data": {
      "text/plain": [
       "PeriodIndex(['2020-01', '2020-02', '2020-03', '2020-04', '2020-05', '2020-06',\n",
       "             '2020-07', '2020-08', '2020-09', '2020-10', '2020-11', '2020-12',\n",
       "             '2021-01', '2021-02', '2021-03', '2021-04', '2021-05'],\n",
       "            dtype='period[M]', freq='M')"
      ]
     },
     "execution_count": 46,
     "metadata": {},
     "output_type": "execute_result"
    }
   ],
   "source": [
    "# create bins per month for visualization \n",
    "covid_months = pd.period_range(\"1/1/2020\", \"5/1/2021\", freq=\"M\")\n",
    "covid_months"
   ]
  },
  {
   "cell_type": "code",
   "execution_count": 47,
   "id": "cb3b18fd-a3c8-4306-9834-d5851def0266",
   "metadata": {},
   "outputs": [
    {
     "data": {
      "text/plain": [
       "<AxesSubplot:>"
      ]
     },
     "execution_count": 47,
     "metadata": {},
     "output_type": "execute_result"
    },
    {
     "data": {
      "image/png": "[encoded data removed]",
      "text/plain": [
       "<Figure size 432x288 with 1 Axes>"
      ]
     },
     "metadata": {
      "needs_background": "light"
     },
     "output_type": "display_data"
    }
   ],
   "source": [
    "event_months = pd.to_datetime(covid_events['start_date']).dt.to_period('m')\n",
    "event_month_counts = event_months.value_counts().sort_index()\n",
    "event_all_month_counts = event_month_counts.reindex(covid_months,fill_value=0)\n",
    "event_all_month_counts\n",
    "event_all_month_counts.plot(kind='bar')"
   ]
  },
  {
   "cell_type": "markdown",
   "id": "f6af4296",
   "metadata": {},
   "source": [
    "#### Conclusions\n",
    "\n",
    "As expected, there is a gap in events occuring during the pandemic, with last events taking place in February of 2020 and then resuming in March of 2021. "
   ]
  },
  {
   "cell_type": "markdown",
   "id": "51018bc9",
   "metadata": {},
   "source": [
    "# Final Review"
   ]
  },
  {
   "cell_type": "markdown",
   "id": "c251c094-18c3-4af7-9263-3ca2dbb53941",
   "metadata": {},
   "source": [
    "### Missing Data Counts"
   ]
  },
  {
   "cell_type": "code",
   "execution_count": 48,
   "id": "5949bc52",
   "metadata": {},
   "outputs": [
    {
     "name": "stdout",
     "output_type": "stream",
     "text": [
      "\n",
      "Tournament Dataframe\n",
      "\n",
      "Columns: ['competition_ID', 'season', 'name', 'category', 'country', 'start_date', 'end_date', 'weapon', 'gender', 'timezone', 'url', 'unique_ID', 'missing_results_flag']\n",
      "  Row Count: 830\n",
      "  Column Count: 13\n",
      "\n",
      "Bouts Dataframe\n",
      "\n",
      "Columns: ['fencer_ID', 'opp_ID', 'fencer_age', 'opp_age', 'fencer_score', 'opp_score', 'winner_ID', 'fencer_curr_pts', 'opp_curr_pts', 'tournament_ID', 'pool_ID', 'upset', 'date']\n",
      "  Row Count: 49131\n",
      "  Column Count: 13\n",
      "\n",
      "Fencer Bio Dataframe\n",
      "\n",
      "Columns: ['id', 'name', 'country_code', 'country', 'hand', 'age', 'url', 'date_accessed']\n",
      "  Row Count: 2108\n",
      "  Column Count: 8\n",
      "\n",
      "Fencer Rankings Dataframe\n",
      "\n",
      "Columns: ['rank', 'points']\n",
      "  Row Count: 10937\n",
      "  Column Count: 2\n"
     ]
    }
   ],
   "source": [
    "list_of_df = [tournament_df, bout_df, fencer_bio_df, fencer_rankings_df]\n",
    "for df in list_of_df:\n",
    "    print(\"\")\n",
    "    print(df.df_name)\n",
    "    print(\"\")\n",
    "    print(\"Columns: {}\".format(list(df.columns)))\n",
    "    print(\"  Row Count: {}\".format(df.shape[0]))\n",
    "    print(\"  Column Count: {}\".format(df.shape[1]))"
   ]
  },
  {
   "cell_type": "code",
   "execution_count": 49,
   "id": "e5a60503",
   "metadata": {},
   "outputs": [
    {
     "name": "stdout",
     "output_type": "stream",
     "text": [
      "\n",
      "Tournament Dataframe\n",
      "\n",
      "Missing Values:\n",
      "missing_results_flag    218\n",
      "dtype: int64\n",
      "\n",
      "Bouts Dataframe\n",
      "\n",
      "Missing Values:   None!\n",
      "\n",
      "Fencer Bio Dataframe\n",
      "\n",
      "Missing Values:\n",
      "hand    1\n",
      "dtype: int64\n",
      "\n",
      "Fencer Rankings Dataframe\n",
      "\n",
      "Missing Values:   None!\n"
     ]
    }
   ],
   "source": [
    "# Should now have only 1 hand missing entry in fencer_bio_df\n",
    "for df in list_of_df:\n",
    "    print(\"\")\n",
    "    print(df.df_name)\n",
    "    print(\"\")\n",
    "\n",
    "    print(\"Missing Values:\",end=\"\")\n",
    "    if(df.isna().sum().sum() > 0):\n",
    "        print(\"\")\n",
    "        print(df.isna().sum()[df.isna().sum() > 0])\n",
    "    else:\n",
    "        print(\"   None!\")"
   ]
  },
  {
   "cell_type": "markdown",
   "id": "95502b3d",
   "metadata": {},
   "source": [
    "# Save cleaned data\n",
    "\n",
    "After processing data, store as new CSV files with 'processed' indicator"
   ]
  }
 ],
 "metadata": {
  "kernelspec": {
   "display_name": "Python 3",
   "language": "python",
   "name": "python3"
  },
  "language_info": {
   "codemirror_mode": {
    "name": "ipython",
    "version": 3
   },
   "file_extension": ".py",
   "mimetype": "text/x-python",
   "name": "python",
   "nbconvert_exporter": "python",
   "pygments_lexer": "ipython3",
   "version": "3.9.4"
  },
  "toc-autonumbering": false,
  "toc-showcode": false,
  "toc-showmarkdowntxt": false,
  "toc-showtags": true
 },
 "nbformat": 4,
 "nbformat_minor": 5
}
