{
 "cells": [
  {
   "cell_type": "code",
   "execution_count": null,
   "id": "a6f984e6",
   "metadata": {},
   "outputs": [],
   "source": [
    "### INITIALLY APPEARED IN data-cleanup \n",
    "# did the USA really not host any tournaments after 2013? \n",
    "USA_events = tournament_df[tournament_df['country']==\"USA\"]\n",
    "post_2013_USA_events = USA_events[USA_events['season']>2013]\n",
    "pre_2013_USA_events = USA_events[USA_events['season']<=2013]\n",
    "# missing_tournaments = tournament_df[(tournament_df['missing_results_flag'].notna()) & (tournament_df['season'] > 2013)]\n",
    "results_tournaments = tournament_df[(tournament_df['missing_results_flag'].isna()) & (tournament_df['season'] > 2013)]\n",
    "post_2013_USA_events\n",
    "results_tournaments_USA = USA_events[(USA_events['missing_results_flag'].isna()) & (USA_events['season'] > 2013)]\n",
    "results_tournaments_USA\n",
    "results_tournaments[results_tournaments['country']==\"USA\"]\n",
    "test = results_tournaments.groupby('country').count()['competition_ID']\n",
    "test\n"
   ]
  }
 ],
 "metadata": {
  "kernelspec": {
   "display_name": "Python 3",
   "language": "python",
   "name": "python3"
  },
  "language_info": {
   "codemirror_mode": {
    "name": "ipython",
    "version": 3
   },
   "file_extension": ".py",
   "mimetype": "text/x-python",
   "name": "python",
   "nbconvert_exporter": "python",
   "pygments_lexer": "ipython3",
   "version": "3.9.4"
  }
 },
 "nbformat": 4,
 "nbformat_minor": 5
}
