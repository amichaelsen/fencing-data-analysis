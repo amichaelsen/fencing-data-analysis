{
 "cells": [
  {
   "cell_type": "markdown",
   "id": "ae1f15a5-5a79-44e9-b54f-24040e1d3e90",
   "metadata": {},
   "source": [
    "# Load split data"
   ]
  },
  {
   "cell_type": "code",
   "execution_count": 3,
   "id": "7e6826dc-ccb3-4bcc-8dbb-4964ef0df3a9",
   "metadata": {},
   "outputs": [],
   "source": [
    "import pandas as pd \n",
    "import math\n",
    "import numpy as np\n",
    "import matplotlib.pyplot as plt\n",
    "\n",
    "# load dataframes from CSV files \n",
    "from data.load_csv import load_cleaned_data, load_split_data\n",
    "from data.load_csv import date as data_date, div_name\n",
    "\n",
    "cleaned_tournament_df, cleaned_bout_df, cleaned_fencer_bio_df, cleaned_fencer_rankings_df = load_cleaned_data()\n",
    "training_bouts, testing_bouts = load_split_data()"
   ]
  },
  {
   "cell_type": "markdown",
   "id": "f643eb96-a4ee-4f26-920d-5883b874a776",
   "metadata": {},
   "source": [
    "# Create Fencer-Fencer Ratings Data \n",
    "\n",
    "**Goal** Create ratings data in the form required by `surprise.SVD`\n",
    "\n",
    "```user ; item ; rating ; [timestamp]``` (CSV file)"
   ]
  },
  {
   "cell_type": "code",
   "execution_count": 9,
   "id": "773880ff-164a-4ed0-b491-7759811ae36e",
   "metadata": {},
   "outputs": [
    {
     "data": {
      "text/html": [
       "<div>\n",
       "<style scoped>\n",
       "    .dataframe tbody tr th:only-of-type {\n",
       "        vertical-align: middle;\n",
       "    }\n",
       "\n",
       "    .dataframe tbody tr th {\n",
       "        vertical-align: top;\n",
       "    }\n",
       "\n",
       "    .dataframe thead th {\n",
       "        text-align: right;\n",
       "    }\n",
       "</style>\n",
       "<table border=\"1\" class=\"dataframe\">\n",
       "  <thead>\n",
       "    <tr style=\"text-align: right;\">\n",
       "      <th></th>\n",
       "      <th>fencer_ID</th>\n",
       "      <th>opp_ID</th>\n",
       "      <th>rating</th>\n",
       "    </tr>\n",
       "  </thead>\n",
       "  <tbody>\n",
       "    <tr>\n",
       "      <th>0</th>\n",
       "      <td>1</td>\n",
       "      <td>2</td>\n",
       "      <td>5.5</td>\n",
       "    </tr>\n",
       "    <tr>\n",
       "      <th>1</th>\n",
       "      <td>1</td>\n",
       "      <td>3</td>\n",
       "      <td>3.5</td>\n",
       "    </tr>\n",
       "    <tr>\n",
       "      <th>2</th>\n",
       "      <td>2</td>\n",
       "      <td>1</td>\n",
       "      <td>-5.5</td>\n",
       "    </tr>\n",
       "    <tr>\n",
       "      <th>3</th>\n",
       "      <td>2</td>\n",
       "      <td>3</td>\n",
       "      <td>2.5</td>\n",
       "    </tr>\n",
       "    <tr>\n",
       "      <th>4</th>\n",
       "      <td>3</td>\n",
       "      <td>1</td>\n",
       "      <td>-3.5</td>\n",
       "    </tr>\n",
       "    <tr>\n",
       "      <th>5</th>\n",
       "      <td>3</td>\n",
       "      <td>2</td>\n",
       "      <td>-2.5</td>\n",
       "    </tr>\n",
       "  </tbody>\n",
       "</table>\n",
       "</div>"
      ],
      "text/plain": [
       "   fencer_ID  opp_ID  rating\n",
       "0          1       2     5.5\n",
       "1          1       3     3.5\n",
       "2          2       1    -5.5\n",
       "3          2       3     2.5\n",
       "4          3       1    -3.5\n",
       "5          3       2    -2.5"
      ]
     },
     "execution_count": 9,
     "metadata": {},
     "output_type": "execute_result"
    }
   ],
   "source": [
    "test = pd.DataFrame(data={'fencer_ID':[1,1,2,2,3,3], 'opp_ID':[2,3,1,3,1,2], 'rating': [5.5, 3.5, -5.5, 2.5, -3.5, -2.5]})\n",
    "test\n",
    "# test.to_markdown()"
   ]
  },
  {
   "cell_type": "markdown",
   "id": "d51a0639-2416-4aae-a39d-709feefb4189",
   "metadata": {},
   "source": [
    "### Create dataframe of ratings\n",
    "\n",
    "Example ratings dataframe:\n",
    "\n",
    "|    |   fencer_ID |   opp_ID |   rating |\n",
    "|---:|------------:|---------:|---------:|\n",
    "|  0 |           1 |        2 |      5.5 |\n",
    "|  1 |           1 |        3 |      3.5 |\n",
    "|  2 |           2 |        1 |     -5.5 |\n",
    "|  3 |           2 |        3 |      2.5 |\n",
    "|  4 |           3 |        1 |     -3.5 |\n",
    "|  5 |           3 |        2 |     -2.5 |"
   ]
  },
  {
   "cell_type": "code",
   "execution_count": null,
   "id": "3713a6fe-0539-484d-a945-55161e2ffaf1",
   "metadata": {},
   "outputs": [],
   "source": []
  }
 ],
 "metadata": {
  "kernelspec": {
   "display_name": "Python 3",
   "language": "python",
   "name": "python3"
  },
  "language_info": {
   "codemirror_mode": {
    "name": "ipython",
    "version": 3
   },
   "file_extension": ".py",
   "mimetype": "text/x-python",
   "name": "python",
   "nbconvert_exporter": "python",
   "pygments_lexer": "ipython3",
   "version": "3.9.4"
  }
 },
 "nbformat": 4,
 "nbformat_minor": 5
}
